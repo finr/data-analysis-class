{
  "nbformat": 4,
  "nbformat_minor": 0,
  "metadata": {
    "colab": {
      "name": "Dask Dataframes.ipynb",
      "provenance": [],
      "include_colab_link": true
    },
    "kernelspec": {
      "name": "python3",
      "display_name": "Python 3"
    }
  },
  "cells": [
    {
      "cell_type": "markdown",
      "metadata": {
        "id": "view-in-github",
        "colab_type": "text"
      },
      "source": [
        "<a href=\"https://colab.research.google.com/github/finr/data-analysis-class/blob/master/Dask_Dataframes.ipynb\" target=\"_parent\"><img src=\"https://colab.research.google.com/assets/colab-badge.svg\" alt=\"Open In Colab\"/></a>"
      ]
    },
    {
      "cell_type": "markdown",
      "metadata": {
        "id": "7Ni1rgdAnJwE",
        "colab_type": "text"
      },
      "source": [
        "# Dask Dataframes\n",
        "\n",
        "\n",
        "*   Uma alternativa ao Pandas dataframe que permite paralelizar operações.\n",
        "*   Um Dask DataFrame é um grande **DataFrame paralelo** composto por muitos DataFrames menores do Pandas.\n",
        "\n",
        "*   O **tamanho da partição** desempenha um papel importante na determinação da aceleração que pode ser obtida durante a execução de cálculos.\n",
        "*   Permite a execução de **cálculos paralelos** em Dataframes utilizando **múltiplos cores**.\n",
        "*   **API** similar ao Pandas (com pequenas exceções).\n",
        "*   Permite o **carregamento** de Datasets **maiores do que a memória**.\n",
        "*   Pode ser **escalado** para **clusters**.\n",
        "*   Referência: https://docs.dask.org/en/latest/dataframe.html\n",
        "\n"
      ]
    },
    {
      "cell_type": "code",
      "metadata": {
        "id": "Lgb1CGYEm4vA",
        "colab_type": "code",
        "colab": {}
      },
      "source": [
        "from s3fs import S3FileSystem\n",
        "\n",
        "s3 = S3FileSystem(anon=True)\n",
        "s3.ls('cesarschool-data-samples/tennis/')"
      ],
      "execution_count": 0,
      "outputs": []
    },
    {
      "cell_type": "code",
      "metadata": {
        "id": "e0I2sZHB-DoY",
        "colab_type": "code",
        "colab": {}
      },
      "source": [
        "import dask.dataframe as dd\n",
        "\n",
        "df = dd.read_csv('s3://cesarschool-data-samples/tennis/atp_matches_201*.csv', storage_options={'anon': True}) "
      ],
      "execution_count": 0,
      "outputs": []
    },
    {
      "cell_type": "code",
      "metadata": {
        "id": "mceOW_cT-oR9",
        "colab_type": "code",
        "colab": {}
      },
      "source": [
        "df"
      ],
      "execution_count": 0,
      "outputs": []
    },
    {
      "cell_type": "code",
      "metadata": {
        "id": "hMokCN1O-xDG",
        "colab_type": "code",
        "colab": {}
      },
      "source": [
        "df.describe().visualize() #.visualize(filename='describe.png')"
      ],
      "execution_count": 0,
      "outputs": []
    },
    {
      "cell_type": "code",
      "metadata": {
        "id": "jGsW8ubkA-8s",
        "colab_type": "code",
        "colab": {}
      },
      "source": [
        "df.head()"
      ],
      "execution_count": 0,
      "outputs": []
    },
    {
      "cell_type": "code",
      "metadata": {
        "id": "cYgOh73IBduy",
        "colab_type": "code",
        "colab": {}
      },
      "source": [
        "max_ht_country = df.groupby('winner_ioc')['winner_ht'].max()"
      ],
      "execution_count": 0,
      "outputs": []
    },
    {
      "cell_type": "code",
      "metadata": {
        "id": "8-olZBuUDBUk",
        "colab_type": "code",
        "colab": {}
      },
      "source": [
        "max_ht_country.visualize()"
      ],
      "execution_count": 0,
      "outputs": []
    },
    {
      "cell_type": "code",
      "metadata": {
        "id": "9HNpfQ8_DFAz",
        "colab_type": "code",
        "colab": {}
      },
      "source": [
        "max_ht_country.compute()"
      ],
      "execution_count": 0,
      "outputs": []
    },
    {
      "cell_type": "code",
      "metadata": {
        "id": "oMQ-rKfOH5Xq",
        "colab_type": "code",
        "colab": {}
      },
      "source": [
        "df.nlargest(3, 'winner_ht').compute()"
      ],
      "execution_count": 0,
      "outputs": []
    },
    {
      "cell_type": "code",
      "metadata": {
        "id": "aZp0Y--_IdY5",
        "colab_type": "code",
        "colab": {}
      },
      "source": [
        "without_cro = df[df.winner_ioc != 'CRO']"
      ],
      "execution_count": 0,
      "outputs": []
    },
    {
      "cell_type": "code",
      "metadata": {
        "id": "f8VJ3ciWJJK7",
        "colab_type": "code",
        "colab": {}
      },
      "source": [
        "without_cro.nlargest(3, 'winner_ht').compute()"
      ],
      "execution_count": 0,
      "outputs": []
    },
    {
      "cell_type": "code",
      "metadata": {
        "id": "EvLNLhCFODhc",
        "colab_type": "code",
        "colab": {}
      },
      "source": [
        "df['tourney_date'].min().compute()"
      ],
      "execution_count": 0,
      "outputs": []
    },
    {
      "cell_type": "code",
      "metadata": {
        "id": "tDNdBuH-JQrA",
        "colab_type": "code",
        "colab": {}
      },
      "source": [
        "df.dtypes"
      ],
      "execution_count": 0,
      "outputs": []
    },
    {
      "cell_type": "code",
      "metadata": {
        "id": "hPqMIFm8LVeg",
        "colab_type": "code",
        "colab": {}
      },
      "source": [
        "from datetime import datetime\n",
        "\n",
        "def get_date_from_int (date, *args, **kwds):\n",
        "  return datetime.strptime(str(date), '%Y%m%d')\n",
        "\n",
        "df_dummy = df['tourney_date'].apply(get_date_from_int, axis=1, meta=datetime)"
      ],
      "execution_count": 0,
      "outputs": []
    },
    {
      "cell_type": "code",
      "metadata": {
        "id": "mNuC47TENHWp",
        "colab_type": "code",
        "colab": {}
      },
      "source": [
        "df_dummy"
      ],
      "execution_count": 0,
      "outputs": []
    },
    {
      "cell_type": "code",
      "metadata": {
        "id": "zBrxmnEFPcNJ",
        "colab_type": "code",
        "colab": {}
      },
      "source": [
        "df_dummy.visualize()"
      ],
      "execution_count": 0,
      "outputs": []
    },
    {
      "cell_type": "code",
      "metadata": {
        "id": "ljRGa19qPe7d",
        "colab_type": "code",
        "colab": {}
      },
      "source": [
        "df_dummy.compute()"
      ],
      "execution_count": 0,
      "outputs": []
    },
    {
      "cell_type": "code",
      "metadata": {
        "id": "zUEgyBQ0Pj0T",
        "colab_type": "code",
        "colab": {}
      },
      "source": [
        "df['year'] = df.apply(lambda x: datetime.strptime(str(x.loc['tourney_date']), '%Y%m%d').year, axis=1, meta=int)"
      ],
      "execution_count": 0,
      "outputs": []
    },
    {
      "cell_type": "code",
      "metadata": {
        "id": "RlquCWGxSW1Q",
        "colab_type": "code",
        "colab": {}
      },
      "source": [
        "df.head()"
      ],
      "execution_count": 0,
      "outputs": []
    },
    {
      "cell_type": "code",
      "metadata": {
        "id": "L84WQnykSnLl",
        "colab_type": "code",
        "colab": {}
      },
      "source": [
        "games_per_year = df.groupby('year')['tourney_date'].count()"
      ],
      "execution_count": 0,
      "outputs": []
    },
    {
      "cell_type": "code",
      "metadata": {
        "id": "qGE0Yp8CS462",
        "colab_type": "code",
        "colab": {}
      },
      "source": [
        "games_per_year.visualize()"
      ],
      "execution_count": 0,
      "outputs": []
    },
    {
      "cell_type": "code",
      "metadata": {
        "id": "YekdmlygS7ai",
        "colab_type": "code",
        "colab": {}
      },
      "source": [
        "games_per_year.compute()"
      ],
      "execution_count": 0,
      "outputs": []
    },
    {
      "cell_type": "code",
      "metadata": {
        "id": "ipswh06HTB8B",
        "colab_type": "code",
        "colab": {}
      },
      "source": [
        "games_per_year.compute().plot()"
      ],
      "execution_count": 0,
      "outputs": []
    },
    {
      "cell_type": "code",
      "metadata": {
        "id": "nMOT7FVgTeg7",
        "colab_type": "code",
        "colab": {}
      },
      "source": [
        ""
      ],
      "execution_count": 0,
      "outputs": []
    }
  ]
}