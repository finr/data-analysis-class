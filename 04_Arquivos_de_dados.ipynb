{
  "nbformat": 4,
  "nbformat_minor": 0,
  "metadata": {
    "kernelspec": {
      "display_name": "Python 3",
      "language": "python",
      "name": "python3"
    },
    "language_info": {
      "codemirror_mode": {
        "name": "ipython",
        "version": 3
      },
      "file_extension": ".py",
      "mimetype": "text/x-python",
      "name": "python",
      "nbconvert_exporter": "python",
      "pygments_lexer": "ipython3",
      "version": "3.7.1"
    },
    "varInspector": {
      "cols": {
        "lenName": 16,
        "lenType": 16,
        "lenVar": 40
      },
      "kernels_config": {
        "python": {
          "delete_cmd_postfix": "",
          "delete_cmd_prefix": "del ",
          "library": "var_list.py",
          "varRefreshCmd": "print(var_dic_list())"
        },
        "r": {
          "delete_cmd_postfix": ") ",
          "delete_cmd_prefix": "rm(",
          "library": "var_list.r",
          "varRefreshCmd": "cat(var_dic_list()) "
        }
      },
      "types_to_exclude": [
        "module",
        "function",
        "builtin_function_or_method",
        "instance",
        "_Feature"
      ],
      "window_display": false
    },
    "colab": {
      "name": "04 - Arquivos de dados.ipynb",
      "provenance": [],
      "include_colab_link": true
    }
  },
  "cells": [
    {
      "cell_type": "markdown",
      "metadata": {
        "id": "view-in-github",
        "colab_type": "text"
      },
      "source": [
        "<a href=\"https://colab.research.google.com/github/finr/data-analysis-class/blob/master/04_Arquivos_de_dados.ipynb\" target=\"_parent\"><img src=\"https://colab.research.google.com/assets/colab-badge.svg\" alt=\"Open In Colab\"/></a>"
      ]
    },
    {
      "cell_type": "markdown",
      "metadata": {
        "id": "6Ht18O35pk8K",
        "colab_type": "text"
      },
      "source": [
        "## Amazon S3 / Google Cloud Storage File System\n",
        "### Acesso aos arquivos de dados"
      ]
    },
    {
      "cell_type": "code",
      "metadata": {
        "id": "H2Jwjiaapk8L",
        "colab_type": "code",
        "colab": {
          "base_uri": "https://localhost:8080/",
          "height": 54
        },
        "outputId": "89d532df-6b5a-4afb-e81a-55204f6c349e"
      },
      "source": [
        "#from gcsfs import GCSFileSystem    -->> Acessar arquivos no google cloud\n",
        "from s3fs import S3FileSystem      #-->> Acessar arquivos no amazon s3\n",
        "\n",
        "#gcs = GCSFileSystem(token='cloud', access='read_only')\n",
        "s3 = S3FileSystem(anon=True)     # Acesso em modo anônimo\n",
        "\n",
        "folder_name = 'cesarschool-data-samples/sample01'\n",
        "\n",
        "#details = gcs.ls(folder_name, detail=True)    -->> google cloud\n",
        "details = s3.ls(folder_name, detail=True)    #-->> amazon\n",
        "print(details)"
      ],
      "execution_count": 1,
      "outputs": [
        {
          "output_type": "stream",
          "text": [
            "[{'Key': 'cesarschool-data-samples/sample01/', 'LastModified': datetime.datetime(2019, 4, 11, 16, 49, tzinfo=tzlocal()), 'ETag': '\"d41d8cd98f00b204e9800998ecf8427e\"', 'Size': 0, 'StorageClass': 'STANDARD', 'type': 'file', 'size': 0, 'name': 'cesarschool-data-samples/sample01/'}, {'Key': 'cesarschool-data-samples/sample01/sample01-000000000000', 'LastModified': datetime.datetime(2019, 4, 11, 16, 49, tzinfo=tzlocal()), 'ETag': '\"d6c1bccb3363a406cd1e2b6e3d4fdf41-25\"', 'Size': 408050167, 'StorageClass': 'STANDARD', 'type': 'file', 'size': 408050167, 'name': 'cesarschool-data-samples/sample01/sample01-000000000000'}, {'Key': 'cesarschool-data-samples/sample01/sample01-000000000001', 'LastModified': datetime.datetime(2019, 4, 11, 16, 49, tzinfo=tzlocal()), 'ETag': '\"08dea8ac62f5c7a3e759c715a3c4ae62-25\"', 'Size': 408096419, 'StorageClass': 'STANDARD', 'type': 'file', 'size': 408096419, 'name': 'cesarschool-data-samples/sample01/sample01-000000000001'}, {'Key': 'cesarschool-data-samples/sample01/sample01-000000000002', 'LastModified': datetime.datetime(2019, 4, 11, 16, 49, tzinfo=tzlocal()), 'ETag': '\"53cebc3d18de43385a13b74ba1b7fd8c-25\"', 'Size': 408152651, 'StorageClass': 'STANDARD', 'type': 'file', 'size': 408152651, 'name': 'cesarschool-data-samples/sample01/sample01-000000000002'}, {'Key': 'cesarschool-data-samples/sample01/sample01-000000000003', 'LastModified': datetime.datetime(2019, 4, 11, 16, 49, tzinfo=tzlocal()), 'ETag': '\"99d4cc0a9a8b9ae6dcc7e8ef3229100b-25\"', 'Size': 407914005, 'StorageClass': 'STANDARD', 'type': 'file', 'size': 407914005, 'name': 'cesarschool-data-samples/sample01/sample01-000000000003'}, {'Key': 'cesarschool-data-samples/sample01/sample01-000000000004', 'LastModified': datetime.datetime(2019, 4, 11, 16, 49, tzinfo=tzlocal()), 'ETag': '\"66739bfd38755dc7bd48472d1cb7f4eb-25\"', 'Size': 407755691, 'StorageClass': 'STANDARD', 'type': 'file', 'size': 407755691, 'name': 'cesarschool-data-samples/sample01/sample01-000000000004'}, {'Key': 'cesarschool-data-samples/sample01/sample01-000000000005', 'LastModified': datetime.datetime(2019, 4, 11, 16, 49, tzinfo=tzlocal()), 'ETag': '\"c51c1a72374bd93797eb641bc0485373-25\"', 'Size': 408236922, 'StorageClass': 'STANDARD', 'type': 'file', 'size': 408236922, 'name': 'cesarschool-data-samples/sample01/sample01-000000000005'}, {'Key': 'cesarschool-data-samples/sample01/sample01-000000000006', 'LastModified': datetime.datetime(2019, 4, 11, 16, 49, tzinfo=tzlocal()), 'ETag': '\"bf287f57785a24375c697e01494815e3-25\"', 'Size': 408134065, 'StorageClass': 'STANDARD', 'type': 'file', 'size': 408134065, 'name': 'cesarschool-data-samples/sample01/sample01-000000000006'}, {'Key': 'cesarschool-data-samples/sample01/sample01-000000000007', 'LastModified': datetime.datetime(2019, 4, 11, 16, 49, tzinfo=tzlocal()), 'ETag': '\"d414045badab19fd80e28c9c774c4a49-25\"', 'Size': 408146450, 'StorageClass': 'STANDARD', 'type': 'file', 'size': 408146450, 'name': 'cesarschool-data-samples/sample01/sample01-000000000007'}, {'Key': 'cesarschool-data-samples/sample01/sample01-000000000008', 'LastModified': datetime.datetime(2019, 4, 11, 16, 49, tzinfo=tzlocal()), 'ETag': '\"1f3c342014439afcfca05a0a26863e56-25\"', 'Size': 407879275, 'StorageClass': 'STANDARD', 'type': 'file', 'size': 407879275, 'name': 'cesarschool-data-samples/sample01/sample01-000000000008'}, {'Key': 'cesarschool-data-samples/sample01/sample01-000000000009', 'LastModified': datetime.datetime(2019, 4, 11, 16, 49, tzinfo=tzlocal()), 'ETag': '\"8cad448add0669a446cfea08d5aa5416-25\"', 'Size': 408177372, 'StorageClass': 'STANDARD', 'type': 'file', 'size': 408177372, 'name': 'cesarschool-data-samples/sample01/sample01-000000000009'}, {'Key': 'cesarschool-data-samples/sample01/sample01-000000000010', 'LastModified': datetime.datetime(2019, 4, 11, 16, 49, tzinfo=tzlocal()), 'ETag': '\"3aff77fbdfb8586f631c628a34924e92-25\"', 'Size': 407852762, 'StorageClass': 'STANDARD', 'type': 'file', 'size': 407852762, 'name': 'cesarschool-data-samples/sample01/sample01-000000000010'}, {'Key': 'cesarschool-data-samples/sample01/sample01-000000000011', 'LastModified': datetime.datetime(2019, 4, 11, 16, 49, tzinfo=tzlocal()), 'ETag': '\"d0533b95aa38b0f3e68ddda32a2adc8d-25\"', 'Size': 408061396, 'StorageClass': 'STANDARD', 'type': 'file', 'size': 408061396, 'name': 'cesarschool-data-samples/sample01/sample01-000000000011'}, {'Key': 'cesarschool-data-samples/sample01/sample01-000000000012', 'LastModified': datetime.datetime(2019, 4, 11, 16, 49, tzinfo=tzlocal()), 'ETag': '\"097068f134d7538ddd3a9b4bff244579-25\"', 'Size': 408163568, 'StorageClass': 'STANDARD', 'type': 'file', 'size': 408163568, 'name': 'cesarschool-data-samples/sample01/sample01-000000000012'}, {'Key': 'cesarschool-data-samples/sample01/sample01-000000000013', 'LastModified': datetime.datetime(2019, 4, 11, 16, 49, tzinfo=tzlocal()), 'ETag': '\"926b2b6cec7bd3aac94c13a469393e65-25\"', 'Size': 407626762, 'StorageClass': 'STANDARD', 'type': 'file', 'size': 407626762, 'name': 'cesarschool-data-samples/sample01/sample01-000000000013'}, {'Key': 'cesarschool-data-samples/sample01/sample01-000000000014', 'LastModified': datetime.datetime(2019, 4, 11, 16, 49, tzinfo=tzlocal()), 'ETag': '\"72a3897d6979c64ad88b098ec56cbe4a-25\"', 'Size': 408029929, 'StorageClass': 'STANDARD', 'type': 'file', 'size': 408029929, 'name': 'cesarschool-data-samples/sample01/sample01-000000000014'}, {'Key': 'cesarschool-data-samples/sample01/sample01-000000000015', 'LastModified': datetime.datetime(2019, 4, 11, 16, 49, tzinfo=tzlocal()), 'ETag': '\"888afbd9e455c4a827bee9642672d970-25\"', 'Size': 408115214, 'StorageClass': 'STANDARD', 'type': 'file', 'size': 408115214, 'name': 'cesarschool-data-samples/sample01/sample01-000000000015'}, {'Key': 'cesarschool-data-samples/sample01/sample01-000000000016', 'LastModified': datetime.datetime(2019, 4, 11, 16, 49, tzinfo=tzlocal()), 'ETag': '\"d12cfd463814bda9cf7129d08a0f4034-25\"', 'Size': 407898820, 'StorageClass': 'STANDARD', 'type': 'file', 'size': 407898820, 'name': 'cesarschool-data-samples/sample01/sample01-000000000016'}, {'Key': 'cesarschool-data-samples/sample01/sample01-000000000017', 'LastModified': datetime.datetime(2019, 4, 11, 16, 49, tzinfo=tzlocal()), 'ETag': '\"9a58fd12309acf7c9f0fff0a522183cd-25\"', 'Size': 408332228, 'StorageClass': 'STANDARD', 'type': 'file', 'size': 408332228, 'name': 'cesarschool-data-samples/sample01/sample01-000000000017'}, {'Key': 'cesarschool-data-samples/sample01/sample01-000000000018', 'LastModified': datetime.datetime(2019, 4, 11, 16, 49, tzinfo=tzlocal()), 'ETag': '\"75db9358602e356f990b5b05135b0726-25\"', 'Size': 408263738, 'StorageClass': 'STANDARD', 'type': 'file', 'size': 408263738, 'name': 'cesarschool-data-samples/sample01/sample01-000000000018'}, {'Key': 'cesarschool-data-samples/sample01/sample01-000000000019', 'LastModified': datetime.datetime(2019, 4, 11, 16, 49, 59, tzinfo=tzlocal()), 'ETag': '\"9d6d2e5ed1631e85e794ee3795b50fd2-25\"', 'Size': 407847447, 'StorageClass': 'STANDARD', 'type': 'file', 'size': 407847447, 'name': 'cesarschool-data-samples/sample01/sample01-000000000019'}, {'Key': 'cesarschool-data-samples/sample01/sample01-000000000020', 'LastModified': datetime.datetime(2019, 4, 11, 16, 49, 59, tzinfo=tzlocal()), 'ETag': '\"d7e78a1928c89ea0696617c2d66d2622-25\"', 'Size': 408091878, 'StorageClass': 'STANDARD', 'type': 'file', 'size': 408091878, 'name': 'cesarschool-data-samples/sample01/sample01-000000000020'}, {'Key': 'cesarschool-data-samples/sample01/sample01-000000000021', 'LastModified': datetime.datetime(2019, 4, 11, 16, 49, 59, tzinfo=tzlocal()), 'ETag': '\"e29501580497f8283b989b7d69503e06-25\"', 'Size': 408018953, 'StorageClass': 'STANDARD', 'type': 'file', 'size': 408018953, 'name': 'cesarschool-data-samples/sample01/sample01-000000000021'}, {'Key': 'cesarschool-data-samples/sample01/sample01-000000000022', 'LastModified': datetime.datetime(2019, 4, 11, 16, 49, 59, tzinfo=tzlocal()), 'ETag': '\"07c595cbaa09144d3ab880dff70455fc-25\"', 'Size': 408175461, 'StorageClass': 'STANDARD', 'type': 'file', 'size': 408175461, 'name': 'cesarschool-data-samples/sample01/sample01-000000000022'}, {'Key': 'cesarschool-data-samples/sample01/sample01-000000000023', 'LastModified': datetime.datetime(2019, 4, 11, 16, 49, 59, tzinfo=tzlocal()), 'ETag': '\"813f0433ecec5a299bec1795a30694f7-25\"', 'Size': 407830110, 'StorageClass': 'STANDARD', 'type': 'file', 'size': 407830110, 'name': 'cesarschool-data-samples/sample01/sample01-000000000023'}, {'Key': 'cesarschool-data-samples/sample01/sample01-000000000024', 'LastModified': datetime.datetime(2019, 4, 11, 16, 49, 59, tzinfo=tzlocal()), 'ETag': '\"b7d6a4ee401307bb10ec9e4548a0d9d4-25\"', 'Size': 408039552, 'StorageClass': 'STANDARD', 'type': 'file', 'size': 408039552, 'name': 'cesarschool-data-samples/sample01/sample01-000000000024'}]\n"
          ],
          "name": "stdout"
        }
      ]
    },
    {
      "cell_type": "markdown",
      "metadata": {
        "id": "yQR4paSKpk8O",
        "colab_type": "text"
      },
      "source": [
        "### Detalhes dos arquivos"
      ]
    },
    {
      "cell_type": "code",
      "metadata": {
        "id": "o4T4CiUSpk8O",
        "colab_type": "code",
        "colab": {
          "base_uri": "https://localhost:8080/",
          "height": 459
        },
        "outputId": "4f97c23a-4396-4fd9-8ff3-5d758265d267"
      },
      "source": [
        "# A variável details é uma lista de dicionários de informações sobre os arquivos. \n",
        "# Acesso aos campos pela sintaxe details['nome_do_campo']\n",
        "for file in details:\n",
        "    # Imprime nome e tamanho do arquivo em MBytes\n",
        "    print(file['Key'], round(file['Size']/(1024*1024.0), 2), 'MBytes')"
      ],
      "execution_count": 2,
      "outputs": [
        {
          "output_type": "stream",
          "text": [
            "cesarschool-data-samples/sample01/ 0.0 MBytes\n",
            "cesarschool-data-samples/sample01/sample01-000000000000 389.15 MBytes\n",
            "cesarschool-data-samples/sample01/sample01-000000000001 389.19 MBytes\n",
            "cesarschool-data-samples/sample01/sample01-000000000002 389.24 MBytes\n",
            "cesarschool-data-samples/sample01/sample01-000000000003 389.02 MBytes\n",
            "cesarschool-data-samples/sample01/sample01-000000000004 388.87 MBytes\n",
            "cesarschool-data-samples/sample01/sample01-000000000005 389.33 MBytes\n",
            "cesarschool-data-samples/sample01/sample01-000000000006 389.23 MBytes\n",
            "cesarschool-data-samples/sample01/sample01-000000000007 389.24 MBytes\n",
            "cesarschool-data-samples/sample01/sample01-000000000008 388.98 MBytes\n",
            "cesarschool-data-samples/sample01/sample01-000000000009 389.27 MBytes\n",
            "cesarschool-data-samples/sample01/sample01-000000000010 388.96 MBytes\n",
            "cesarschool-data-samples/sample01/sample01-000000000011 389.16 MBytes\n",
            "cesarschool-data-samples/sample01/sample01-000000000012 389.26 MBytes\n",
            "cesarschool-data-samples/sample01/sample01-000000000013 388.74 MBytes\n",
            "cesarschool-data-samples/sample01/sample01-000000000014 389.13 MBytes\n",
            "cesarschool-data-samples/sample01/sample01-000000000015 389.21 MBytes\n",
            "cesarschool-data-samples/sample01/sample01-000000000016 389.0 MBytes\n",
            "cesarschool-data-samples/sample01/sample01-000000000017 389.42 MBytes\n",
            "cesarschool-data-samples/sample01/sample01-000000000018 389.35 MBytes\n",
            "cesarschool-data-samples/sample01/sample01-000000000019 388.95 MBytes\n",
            "cesarschool-data-samples/sample01/sample01-000000000020 389.19 MBytes\n",
            "cesarschool-data-samples/sample01/sample01-000000000021 389.12 MBytes\n",
            "cesarschool-data-samples/sample01/sample01-000000000022 389.27 MBytes\n",
            "cesarschool-data-samples/sample01/sample01-000000000023 388.94 MBytes\n",
            "cesarschool-data-samples/sample01/sample01-000000000024 389.14 MBytes\n"
          ],
          "name": "stdout"
        }
      ]
    },
    {
      "cell_type": "markdown",
      "metadata": {
        "id": "dccZBqqFpk8Q",
        "colab_type": "text"
      },
      "source": [
        "### Amostra dos arquivos"
      ]
    },
    {
      "cell_type": "code",
      "metadata": {
        "id": "DYeCRag6pk8R",
        "colab_type": "code",
        "colab": {
          "base_uri": "https://localhost:8080/",
          "height": 1000
        },
        "outputId": "303db432-4ee1-4ffb-bf9a-8e4198a6b568"
      },
      "source": [
        "%%time\n",
        "# Abre arquivos para leitura e imprime primeiras linhas\n",
        "headers = []\n",
        "for file in details:\n",
        "    current_header = ''\n",
        "    # Se for um arquivo\n",
        "    if file['Size'] > 0:\n",
        "        # Abre arquivo para leitura\n",
        "        current_file = s3.open(file['Key'], 'rb')\n",
        "        #print(current_file)\n",
        "        print(file['Key'])\n",
        "        headers.append('\\n' + file['Key'] + '\\n')\n",
        "        print(current_file.readline())\n",
        "        for i in range(6):\n",
        "            headers.append(str(current_file.readline()) + '\\n')\n",
        "        current_file.close()\n",
        "        headers.append(current_header)\n",
        "        \n",
        "print(''.join(headers))\n"
      ],
      "execution_count": 3,
      "outputs": [
        {
          "output_type": "stream",
          "text": [
            "cesarschool-data-samples/sample01/sample01-000000000000\n",
            "b'timestamp,user_id,lat,lng,country_code\\n'\n",
            "cesarschool-data-samples/sample01/sample01-000000000001\n",
            "b'timestamp,user_id,lat,lng,country_code\\n'\n",
            "cesarschool-data-samples/sample01/sample01-000000000002\n",
            "b'timestamp,user_id,lat,lng,country_code\\n'\n",
            "cesarschool-data-samples/sample01/sample01-000000000003\n",
            "b'timestamp,user_id,lat,lng,country_code\\n'\n",
            "cesarschool-data-samples/sample01/sample01-000000000004\n",
            "b'timestamp,user_id,lat,lng,country_code\\n'\n",
            "cesarschool-data-samples/sample01/sample01-000000000005\n",
            "b'timestamp,user_id,lat,lng,country_code\\n'\n",
            "cesarschool-data-samples/sample01/sample01-000000000006\n",
            "b'timestamp,user_id,lat,lng,country_code\\n'\n",
            "cesarschool-data-samples/sample01/sample01-000000000007\n",
            "b'timestamp,user_id,lat,lng,country_code\\n'\n",
            "cesarschool-data-samples/sample01/sample01-000000000008\n",
            "b'timestamp,user_id,lat,lng,country_code\\n'\n",
            "cesarschool-data-samples/sample01/sample01-000000000009\n",
            "b'timestamp,user_id,lat,lng,country_code\\n'\n",
            "cesarschool-data-samples/sample01/sample01-000000000010\n",
            "b'timestamp,user_id,lat,lng,country_code\\n'\n",
            "cesarschool-data-samples/sample01/sample01-000000000011\n",
            "b'timestamp,user_id,lat,lng,country_code\\n'\n",
            "cesarschool-data-samples/sample01/sample01-000000000012\n",
            "b'timestamp,user_id,lat,lng,country_code\\n'\n",
            "cesarschool-data-samples/sample01/sample01-000000000013\n",
            "b'timestamp,user_id,lat,lng,country_code\\n'\n",
            "cesarschool-data-samples/sample01/sample01-000000000014\n",
            "b'timestamp,user_id,lat,lng,country_code\\n'\n",
            "cesarschool-data-samples/sample01/sample01-000000000015\n",
            "b'timestamp,user_id,lat,lng,country_code\\n'\n",
            "cesarschool-data-samples/sample01/sample01-000000000016\n",
            "b'timestamp,user_id,lat,lng,country_code\\n'\n",
            "cesarschool-data-samples/sample01/sample01-000000000017\n",
            "b'timestamp,user_id,lat,lng,country_code\\n'\n",
            "cesarschool-data-samples/sample01/sample01-000000000018\n",
            "b'timestamp,user_id,lat,lng,country_code\\n'\n",
            "cesarschool-data-samples/sample01/sample01-000000000019\n",
            "b'timestamp,user_id,lat,lng,country_code\\n'\n",
            "cesarschool-data-samples/sample01/sample01-000000000020\n",
            "b'timestamp,user_id,lat,lng,country_code\\n'\n",
            "cesarschool-data-samples/sample01/sample01-000000000021\n",
            "b'timestamp,user_id,lat,lng,country_code\\n'\n",
            "cesarschool-data-samples/sample01/sample01-000000000022\n",
            "b'timestamp,user_id,lat,lng,country_code\\n'\n",
            "cesarschool-data-samples/sample01/sample01-000000000023\n",
            "b'timestamp,user_id,lat,lng,country_code\\n'\n",
            "cesarschool-data-samples/sample01/sample01-000000000024\n",
            "b'timestamp,user_id,lat,lng,country_code\\n'\n",
            "\n",
            "cesarschool-data-samples/sample01/sample01-000000000000\n",
            "b'2016-09-24 08:12:00,ac19d115-f9ce-41c3-841a-1e1f9f6b065d,29.7368824,-95.9214869,US\\n'\n",
            "b'2016-09-30 08:14:00,ba949a18-9236-4059-83ea-316b79fa56fe,33.6150991,-112.5752445,US\\n'\n",
            "b'2016-03-28 19:01:00,f4321037-379c-4d71-92f6-c3f97b0556f5,\"\",\"\",\"\"\\n'\n",
            "b'2020-11-16 12:57:00,0ad26898-8f65-401f-9c13-e779a7e175fb,33.9901613,-118.7019258,US\\n'\n",
            "b'2016-03-02 20:43:00,f5d23371-7a1e-4bd0-976a-fea7cfc69e18,34.463865,-41.4220237,\"\"\\n'\n",
            "b'2016-02-22 08:33:00,76b22907-a458-46e7-8914-5eeb7511e652,32.8803525,-97.0717364,US\\n'\n",
            "\n",
            "cesarschool-data-samples/sample01/sample01-000000000001\n",
            "b'2016-06-09 08:23:00,aeb4b9f0-4f52-4507-8657-ffdf06cd4704,46.946283,-71.5317767,CA\\n'\n",
            "b'2016-02-09 20:45:00,2ac40a18-ef3b-4135-866a-781e7d1cbbfb,33.243865,-40.4320237,\"\"\\n'\n",
            "b'2016-11-25 10:36:00,014bc9e0-ecce-4f9f-9f6b-f812ee6d8eb3,47.4415702,-53.0878862,CA\\n'\n",
            "b'2016-05-04 08:58:00,65460308-c1e9-4755-bc6a-ce82a2d55b3a,32.7803525,-97.0717364,US\\n'\n",
            "b'2016-04-28 10:16:00,13afc661-0007-4a42-a129-34869b221e1c,43.4365353,-79.5010374,CA\\n'\n",
            "b'2016-01-20 03:21:00,5dfaa172-a6e4-49bf-92ab-79c758cee65d,19.180034,-98.363006,MX\\n'\n",
            "\n",
            "cesarschool-data-samples/sample01/sample01-000000000002\n",
            "b'2025-09-17 21:58:00,033e3012-5b0e-4a93-bf82-1cd14c4e9e66,31.5238179,-106.3790219,MX\\n'\n",
            "b'2016-11-21 18:23:00,44275d4b-ba58-4d1f-b9f7-aff4134697ea,31.6338179,-106.3090219,MX\\n'\n",
            "b'2016-03-17 21:23:00,4a9c2ec1-1053-4f02-bf47-e1fb7c1245e2,\"\",\"\",\"\"\\n'\n",
            "b'2016-06-11 08:08:00,44275d4b-ba58-4d1f-b9f7-aff4134697ea,34.703865,-41.1320237,\"\"\\n'\n",
            "b'2016-05-28 20:52:00,ac19d115-f9ce-41c3-841a-1e1f9f6b065d,29.8268824,-95.6514869,US\\n'\n",
            "b'2016-03-16 10:28:00,ba949a18-9236-4059-83ea-316b79fa56fe,33.6550991,-112.2152445,US\\n'\n",
            "\n",
            "cesarschool-data-samples/sample01/sample01-000000000003\n",
            "b'2016-02-22 19:10:00,3ac14452-2288-4abd-af00-688ee6ebc7a2,34.2601613,-118.7919258,US\\n'\n",
            "b'2016-09-12 15:24:00,274b9b2a-c383-4ef9-843a-6c956b4fedb1,45.2587861,-76.4506972,CA\\n'\n",
            "b'2016-09-14 11:25:00,5db5dc69-5aa0-46ca-bb66-5839aaa57fa9,19.422481,-99.1169736,MX\\n'\n",
            "b'2016-01-16 12:23:00,8ac6d79e-fb1b-4e56-80a5-6328ee4dd0c4,39.9124137,-75.4681183,US\\n'\n",
            "b'2016-05-05 19:48:00,e21115ad-f254-43e6-a2b8-fbe0e654952e,47.5415702,-53.0678862,CA\\n'\n",
            "b'2016-05-21 08:02:00,de1cff97-9a9b-4653-90d3-c9fa810092a7,32.5266817,-117.0178933,MX\\n'\n",
            "\n",
            "cesarschool-data-samples/sample01/sample01-000000000004\n",
            "b'2016-11-22 10:47:00,76b22907-a458-46e7-8914-5eeb7511e652,32.7803525,-96.9117364,US\\n'\n",
            "b'2016-04-08 10:14:00,3fc662af-d6ea-4f09-8de3-a477084cdd50,\"\",\"\",\"\"\\n'\n",
            "b'2016-03-03 21:52:00,4d60ba9c-84e9-4fc2-97d9-9a9a9c518b5e,21.1818994,-101.6360522,MX\\n'\n",
            "b'2016-05-07 10:09:00,192a4fa2-3e41-4a5e-bacf-e04f6f13dea7,33.9601613,-118.6719258,US\\n'\n",
            "b'2016-11-30 10:04:00,a2722ed5-05d6-4964-be6c-de40e26179ec,18.810034,-98.153006,MX\\n'\n",
            "b'2016-03-26 09:07:00,a93602f5-9426-4f9a-9581-3febbc926f02,45.8453764,-66.5063359,CA\\n'\n",
            "\n",
            "cesarschool-data-samples/sample01/sample01-000000000005\n",
            "b'2016-03-26 18:22:00,e864e275-5098-459c-85c1-7f613c8e276f,49.7637377,-97.3623088,CA\\n'\n",
            "b'\"\",1ed3a652-8818-4778-a843-03e700238db4,20.8718994,-101.7660522,MX\\n'\n",
            "b'2016-08-11 10:02:00,c6afe175-78b5-49fd-bd81-77e0cd8d00a9,19.42068,-99.2537003,MX\\n'\n",
            "b'2016-03-13 15:18:00,f43eec3b-f0c4-4b42-905b-2168c2eba745,25.7087281,-100.6231833,MX\\n'\n",
            "b'2016-10-07 11:53:00,12b12288-ea3c-4f41-bde8-f29d35b9b0b9,32.7803525,-97.1717364,US\\n'\n",
            "b'2016-05-24 20:25:00,d7c116f2-cf9e-4c28-a350-0f8bdab16de2,41.9833925,-88.1621525,US\\n'\n",
            "\n",
            "cesarschool-data-samples/sample01/sample01-000000000006\n",
            "b'2016-11-30 02:26:00,a8fbffb0-0486-4b90-a28c-0c33c4249abf,37.346933,-122.0074987,US\\n'\n",
            "b'2016-06-04 11:51:00,290c8231-1e25-4037-8bcd-c1a531340d8d,41.8533925,-88.3121525,US\\n'\n",
            "b'2016-02-24 09:42:00,058fd4d5-a092-4ca1-9f5b-e178182ac69e,21.1318994,-101.8060522,MX\\n'\n",
            "b'2016-06-20 18:49:00,52ddda06-df7d-4190-8add-eb3f6295afd7,33.6150991,-112.3352445,US\\n'\n",
            "b'2016-04-30 19:54:00,74f137c5-7fae-4b1d-af1b-471537fc9469,19.46068,-99.3137003,MX\\n'\n",
            "b'2016-09-16 19:48:00,edfe380a-d666-4975-81e2-80eaf75edf93,25.5487281,-100.5231833,MX\\n'\n",
            "\n",
            "cesarschool-data-samples/sample01/sample01-000000000007\n",
            "b'\"\",24000350-ec1f-4889-9c16-5ab97e320a16,39.9024137,-75.2981183,US\\n'\n",
            "b'2016-06-13 11:53:00,d0f038f0-faf9-4d3d-8298-43fc87e78a7e,19.52068,-99.2937003,MX\\n'\n",
            "b'2016-04-19 21:10:00,7170063b-aeed-4c44-9722-1a4a2c825739,35.013865,-40.5420237,\"\"\\n'\n",
            "b'2016-02-13 14:18:00,7c22765b-6e08-4e11-b011-980e822ed70b,53.6155501,-113.8741289,CA\\n'\n",
            "b'2016-04-23 09:33:00,3a8e6a23-cfcc-48ee-8b3d-8bd2e68c5468,32.3866817,-117.2178933,MX\\n'\n",
            "b'2016-09-17 20:35:00,28310727-34a6-43cf-a242-91692869e4e1,34.1001613,-118.7719258,US\\n'\n",
            "\n",
            "cesarschool-data-samples/sample01/sample01-000000000008\n",
            "b'2016-05-22 21:07:00,e864e275-5098-459c-85c1-7f613c8e276f,\"\",\"\",\"\"\\n'\n",
            "b'2016-11-12 18:58:00,82c097f8-7e30-4202-8b1e-07dfcc675354,43.6765353,-79.5410374,CA\\n'\n",
            "b'2016-06-02 18:35:00,464402c8-aa4e-43d9-8d1a-c9cf29e9e579,19.080034,-98.243006,MX\\n'\n",
            "b'2016-04-03 22:14:00,dce2dd81-81e0-4e05-aa37-256b20945303,\"\",\"\",\"\"\\n'\n",
            "b'2016-03-12 10:52:00,9b2a6ceb-6659-46ee-84a2-4bb5dda51f60,21.2918994,-101.7860522,MX\\n'\n",
            "b'2016-02-13 10:39:00,bdf917bf-e8b6-4958-922b-b0732e3b7892,32.5866817,-117.2178933,MX\\n'\n",
            "\n",
            "cesarschool-data-samples/sample01/sample01-000000000009\n",
            "b'2016-12-03 09:31:00,84363c78-eade-486f-8689-37bde9b7bb13,48.5462302,-123.4142419,CA\\n'\n",
            "b'2016-12-16 09:51:00,08e80d88-a862-468e-a239-9d5318659851,\"\",\"\",\"\"\\n'\n",
            "b'2016-05-06 18:54:00,94d93d0c-75f1-4827-965d-c3e1f88e5860,33.5650991,-112.1852445,US\\n'\n",
            "b'2016-09-19 08:31:00,ab318597-263c-4bfa-9d66-855208d777cb,21.0218994,-101.8560522,MX\\n'\n",
            "b'2016-11-01 19:57:00,e8525ecb-0dbd-4ca4-95dc-e1b6234085f6,32.7603525,-96.9717364,US\\n'\n",
            "b'2016-11-22 20:44:00,2abfbb21-25ba-4b71-b557-36f03e97a96e,53.6455501,-113.8641289,CA\\n'\n",
            "\n",
            "cesarschool-data-samples/sample01/sample01-000000000010\n",
            "b'2016-07-09 19:42:00,5651ee4e-d801-4937-8468-2a82a2e46fac,47.4515702,-53.0778862,CA\\n'\n",
            "b'2024-07-23 09:00:00,7543f1af-8a3d-469d-92f6-393b2d3a0745,40.5171494,-74.3798703,US\\n'\n",
            "b'2016-11-22 18:25:00,baf02223-b463-49ce-8621-ffeecf01c633,33.613865,-40.4020237,\"\"\\n'\n",
            "b'2016-01-07 21:16:00,68efa6cb-115e-4f44-9e04-4e9245d4f089,43.8265353,-79.5310374,CA\\n'\n",
            "b'2016-10-04 20:26:00,6fe1cb1d-eac9-4648-bdc1-6e7b751da7a0,45.8753764,-66.5763359,CA\\n'\n",
            "b'2016-01-19 11:21:00,83b594df-81e7-4ab9-90fa-c8a6a5cc31e4,32.4066817,-117.0178933,MX\\n'\n",
            "\n",
            "cesarschool-data-samples/sample01/sample01-000000000011\n",
            "b'2016-04-12 10:49:00,7df00d0e-f732-4a10-9f69-b86d27a49150,29.7868824,-95.6114869,US\\n'\n",
            "b'2016-05-31 08:02:00,bc854473-eeb7-471c-b824-6ff16e1dee09,20.9818994,-101.5960522,MX\\n'\n",
            "b'2016-06-09 10:40:00,5e39288d-de5b-4718-b068-67529bcaceb1,40.7171494,-74.3598703,US\\n'\n",
            "b'2016-12-09 08:08:00,9ef1fc5a-6469-493b-b544-4bb6c69b80d8,19.30068,-99.4937003,MX\\n'\n",
            "b'2016-08-02 14:51:00,edb2d563-88a6-4d27-8af1-429ed3a1bf47,19.27068,-99.2437003,MX\\n'\n",
            "b'2016-12-10 21:38:00,0ad26898-8f65-401f-9c13-e779a7e175fb,33.9401613,-118.6319258,US\\n'\n",
            "\n",
            "cesarschool-data-samples/sample01/sample01-000000000012\n",
            "b'2016-03-07 07:52:00,3efe8d9c-9c02-4d61-b888-c83678a0f969,34.1901613,-118.7219258,US\\n'\n",
            "b'2016-02-21 08:14:00,528a02c1-659e-4f75-a297-b5bb9f16b36f,40.0924137,-75.1881183,US\\n'\n",
            "b'2020-09-21 09:47:00,1ed3a652-8818-4778-a843-03e700238db4,20.9518994,-101.8460522,MX\\n'\n",
            "b'2016-05-13 18:58:00,4d9fc276-951e-4885-af52-5ea40a646cd1,34.143865,-41.8120237,\"\"\\n'\n",
            "b'2016-11-21 21:45:00,59b1de3b-00d6-49d1-a4e9-8e20b8e0b55b,19.50068,-99.2937003,MX\\n'\n",
            "b'2016-01-25 10:42:00,7df9b7bb-e06d-48ce-97d5-09b000a9f501,25.6787281,-100.3331833,MX\\n'\n",
            "\n",
            "cesarschool-data-samples/sample01/sample01-000000000013\n",
            "b'\"\",798d49b3-57a2-46f2-8905-f841946de421,45.1987861,-76.2906972,CA\\n'\n",
            "b'2016-10-22 01:44:00,6b3600ac-9136-4b13-8e40-44075229140d,47.4815702,-53.0878862,CA\\n'\n",
            "b'2016-09-24 01:41:00,a61b6364-c14c-4ac4-8b44-39259d3f3719,48.4662302,-123.1342419,CA\\n'\n",
            "b'2016-06-05 21:02:00,6a41065d-7396-414e-975a-13c75db7f2f9,32.9803525,-97.0917364,US\\n'\n",
            "b'2016-02-10 10:18:00,287a8354-96a6-45d8-b330-bcccd6b6092b,32.9603525,-97.0917364,US\\n'\n",
            "b'2016-06-11 20:29:00,02347b33-651f-4092-83d1-d13ae38891e2,29.8968824,-95.5014869,US\\n'\n",
            "\n",
            "cesarschool-data-samples/sample01/sample01-000000000014\n",
            "b'2016-09-03 21:31:00,ae7ed6b4-d0a5-4828-9e4f-ddb991006f68,40.2224137,-75.2981183,US\\n'\n",
            "b'2016-03-04 02:10:00,abc5b9f6-ca56-4114-a3d7-ffe11599d2d3,19.27068,-99.2237003,MX\\n'\n",
            "b'2016-08-19 21:26:00,1e02d8dc-a0d8-4643-a4b6-f0c5d69f4ada,45.0987861,-76.5706972,CA\\n'\n",
            "b'\"\",44275d4b-ba58-4d1f-b9f7-aff4134697ea,31.7438179,-106.5390219,MX\\n'\n",
            "b'2016-03-09 21:57:00,223638ef-5947-46af-9f0e-2290fdfab1b7,29.581137,-98.8346001,US\\n'\n",
            "b'2016-10-08 11:33:00,5328f9d7-387e-4368-ba8e-414c55c03101,33.9101613,-118.7619258,US\\n'\n",
            "\n",
            "cesarschool-data-samples/sample01/sample01-000000000015\n",
            "b'2016-02-24 18:17:00,c987cd78-c3ce-4ace-9800-bb341f1ff887,34.893865,-40.7120237,\"\"\\n'\n",
            "b'2016-10-13 01:38:00,df410942-1d65-4df0-b344-baafe64237b9,37.316933,-121.7574987,US\\n'\n",
            "b'2016-03-30 08:49:00,473897d5-9dfb-411f-ba8a-7367d5bf4b35,46.916283,-71.4817767,CA\\n'\n",
            "b'2016-01-01 18:49:00,2a6de85d-ea52-47db-b1c9-fc530448e76c,37.206933,-122.0074987,US\\n'\n",
            "b'2016-11-03 19:18:00,3ac14452-2288-4abd-af00-688ee6ebc7a2,33.9501613,-118.7219258,US\\n'\n",
            "b'\"\",37c3a4aa-5448-4f55-94d3-69a0a09fcb2d,50.1137377,-97.3523088,CA\\n'\n",
            "\n",
            "cesarschool-data-samples/sample01/sample01-000000000016\n",
            "b'2016-04-03 21:26:00,53c1282f-65ef-44e1-95ff-c09ce2c7006c,48.3862302,-123.4342419,CA\\n'\n",
            "b'2016-09-09 19:24:00,35e6f596-230f-4f6b-9838-6c39a17edeff,21.1618994,-101.7760522,MX\\n'\n",
            "b'2016-02-20 23:09:00,ff488d57-bac2-47b5-be9e-1efd543d08c2,19.060034,-98.143006,MX\\n'\n",
            "b'2016-08-03 20:16:00,1ca40d56-3160-4061-8ccf-5d7ad2fc88c7,19.4618455,-99.7880105,MX\\n'\n",
            "b'2016-11-09 12:26:00,ee51e93b-fb23-47c3-b8be-8818b1a6bd5e,19.130034,-98.293006,MX\\n'\n",
            "b'2016-12-14 19:24:00,736a8d05-b0b5-46ff-8551-6c0b3b8cbb17,19.532481,-99.1269736,MX\\n'\n",
            "\n",
            "cesarschool-data-samples/sample01/sample01-000000000017\n",
            "b'2016-11-11 18:31:00,078b0717-1ae7-4917-85e6-fa1249f6dcfd,47.5215702,-53.0678862,CA\\n'\n",
            "b'2016-05-07 19:15:00,1e02d8dc-a0d8-4643-a4b6-f0c5d69f4ada,45.3687861,-76.4006972,CA\\n'\n",
            "b'2016-01-14 08:47:00,2bda4751-a396-4c40-9172-dd252dc879b8,31.8438179,-106.6790219,MX\\n'\n",
            "b'2017-05-04 15:47:00,fdadabea-cd99-4205-8b12-4c53ba420716,29.391137,-98.8446001,US\\n'\n",
            "b'2016-11-18 14:53:00,e3214c15-7c72-4893-a188-ef30f8fe0f03,44.7192457,-63.5620143,CA\\n'\n",
            "b'2016-07-10 20:44:00,331ed795-37fa-429e-913e-42432c3a0953,44.5592457,-63.9020143,CA\\n'\n",
            "\n",
            "cesarschool-data-samples/sample01/sample01-000000000018\n",
            "b'2016-12-05 20:02:00,f0eab340-32de-439f-9f57-3e3471f262cc,32.9103525,-97.1217364,US\\n'\n",
            "b'2016-04-13 19:37:00,d7c220c6-0bbe-4440-810b-79db9b4122d0,41.7733925,-87.8121525,US\\n'\n",
            "b'2016-09-16 10:09:00,b7624d5f-520d-483e-ae6b-f140d5e37343,32.6903525,-96.9617364,US\\n'\n",
            "b'2016-03-09 04:47:00,37c0678c-4939-4294-9863-842c60c80986,39.9724137,-75.3081183,US\\n'\n",
            "b'2016-10-29 08:26:00,4383780e-bf8e-4bbd-964e-00d78daccb02,47.6015702,-53.0478862,CA\\n'\n",
            "b'2016-12-05 18:27:00,2a6de85d-ea52-47db-b1c9-fc530448e76c,37.286933,-121.8474987,US\\n'\n",
            "\n",
            "cesarschool-data-samples/sample01/sample01-000000000019\n",
            "b'2016-09-02 10:22:00,52ddda06-df7d-4190-8add-eb3f6295afd7,\"\",\"\",\"\"\\n'\n",
            "b'2016-07-29 19:49:00,9a3c2a89-9b57-4a29-9f68-18d51ed6b31e,41.9133925,-87.9721525,US\\n'\n",
            "b'2016-12-16 19:15:00,d08a5d35-08f5-4f3e-ae74-b3cebd7e4644,19.050034,-98.253006,MX\\n'\n",
            "b'2016-03-11 09:57:00,b7624d5f-520d-483e-ae6b-f140d5e37343,32.7403525,-96.9917364,US\\n'\n",
            "b'2021-01-23 18:15:00,1f9d2fae-c971-498b-aa3a-51b79a48b16a,19.5618455,-99.7880105,MX\\n'\n",
            "b'2016-06-23 10:34:00,296cadc0-a4e6-4cab-b83f-9f5b5151304b,19.6618455,-99.4880105,MX\\n'\n",
            "\n",
            "cesarschool-data-samples/sample01/sample01-000000000020\n",
            "b'2016-02-03 17:08:00,65518423-6af1-4d04-828c-96ffa2977c0f,\"\",\"\",\"\"\\n'\n",
            "b'2016-10-06 08:56:00,a4afad38-ad49-4c5d-92e9-f05a95323618,\"\",\"\",\"\"\\n'\n",
            "b'2016-02-20 20:59:00,a8fbffb0-0486-4b90-a28c-0c33c4249abf,37.466933,-122.0074987,US\\n'\n",
            "b'2016-02-23 11:39:00,808b2aad-6749-4bbd-9729-1a8932bec7bf,49.8237377,-97.1823088,CA\\n'\n",
            "b'2016-04-30 11:13:00,d1c909b8-41c1-4ae1-97b5-e79a4e2206c9,33.9901613,-118.6219258,US\\n'\n",
            "b'2016-05-14 19:22:00,b5f7132b-397b-4355-87b7-8e0637c07acf,44.5992457,-64.0020143,CA\\n'\n",
            "\n",
            "cesarschool-data-samples/sample01/sample01-000000000021\n",
            "b'2016-03-18 11:29:00,23aab647-6d64-4ccd-b6eb-b66c9fe6efd5,33.3350991,-112.4152445,US\\n'\n",
            "b'2016-12-27 21:29:00,fb9e04d4-5f19-4247-9b0e-46853084bc5a,18.990034,-98.293006,MX\\n'\n",
            "b'2016-06-21 10:56:00,87cc6525-de49-410f-9153-e7d082e0a62b,43.5865353,-79.3710374,CA\\n'\n",
            "b'2016-10-06 15:29:00,9b7b0cc6-6029-4ab6-a572-37b28109810c,31.7538179,-106.6690219,MX\\n'\n",
            "b'2016-01-11 09:53:00,7ac29a1e-c070-4e95-9abb-83c7b4c8d3b3,45.9653764,-66.8863359,CA\\n'\n",
            "b'2016-06-01 11:02:00,00911bd9-cc57-4986-b51c-01ba666a7927,41.8533925,-88.1521525,US\\n'\n",
            "\n",
            "cesarschool-data-samples/sample01/sample01-000000000022\n",
            "b'2016-10-02 10:29:00,2afef6d4-f946-402f-a639-71b9dcb79aee,32.2966817,-116.9878933,MX\\n'\n",
            "b'2016-03-05 18:39:00,af304730-4f32-4179-a17b-77051ddedc08,19.6818455,-99.6280105,MX\\n'\n",
            "b'2016-02-24 09:08:00,eaf85b4d-15aa-4034-8755-00f54e74f332,29.7268824,-95.7914869,US\\n'\n",
            "b'2016-07-19 21:31:00,ef05c1d1-c638-46d8-93ee-d9d10fe68b86,50.4385102,-104.7954927,CA\\n'\n",
            "b'2016-08-27 10:50:00,bd6a8045-17a6-41c5-ac8b-242f8c2f1f9d,33.623865,-40.8120237,\"\"\\n'\n",
            "b'2016-10-14 20:15:00,b1ceb93f-70e3-42f6-8a24-2c3c250f6afd,40.7471494,-74.2898703,US\\n'\n",
            "\n",
            "cesarschool-data-samples/sample01/sample01-000000000023\n",
            "b'\"\",e2ca5a0c-3d58-4702-8cec-52b72497ff78,21.1018994,-101.7960522,MX\\n'\n",
            "b'2016-09-11 09:27:00,ed29c741-609c-429c-a0f7-595e0fcd7faa,50.4185102,-104.8154927,CA\\n'\n",
            "b'2016-07-07 15:25:00,5f89bcf7-62a3-41c4-b9a4-f5bea8a0763f,33.5950991,-112.3352445,US\\n'\n",
            "b'2016-09-10 19:00:00,fdadabea-cd99-4205-8b12-4c53ba420716,29.281137,-98.8546001,US\\n'\n",
            "b'2016-12-27 18:34:00,94286ea1-e938-42e2-9d81-bb3a76e896e4,37.186933,-121.8674987,US\\n'\n",
            "b'2016-06-07 10:32:00,0915542b-06df-4381-8b3d-169f4429fad8,21.0118994,-101.7860522,MX\\n'\n",
            "\n",
            "cesarschool-data-samples/sample01/sample01-000000000024\n",
            "b'2016-04-25 21:35:00,0ad26898-8f65-401f-9c13-e779a7e175fb,\"\",\"\",\"\"\\n'\n",
            "b'2016-07-25 21:21:00,91c7ca5d-2250-4661-bebb-c9539907b890,47.6515702,-53.0378862,CA\\n'\n",
            "b'\"\",57b9f7af-b357-4b88-bf95-4e573331f910,40.6871494,-74.3698703,US\\n'\n",
            "b'2016-03-31 09:39:00,35c04600-59dd-4d7b-ae9a-dad225713904,29.7868824,-95.5914869,US\\n'\n",
            "b'2016-05-16 19:13:00,473897d5-9dfb-411f-ba8a-7367d5bf4b35,47.016283,-71.4617767,CA\\n'\n",
            "b'2016-12-10 19:36:00,a93602f5-9426-4f9a-9581-3febbc926f02,45.9853764,-66.8263359,CA\\n'\n",
            "\n",
            "CPU times: user 3.73 s, sys: 1.66 s, total: 5.4 s\n",
            "Wall time: 1min 3s\n"
          ],
          "name": "stdout"
        }
      ]
    },
    {
      "cell_type": "code",
      "metadata": {
        "id": "VVbz7njxpk8S",
        "colab_type": "code",
        "colab": {}
      },
      "source": [
        ""
      ],
      "execution_count": 0,
      "outputs": []
    }
  ]
}