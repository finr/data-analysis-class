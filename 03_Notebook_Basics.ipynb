{
  "nbformat": 4,
  "nbformat_minor": 0,
  "metadata": {
    "kernelspec": {
      "display_name": "Python 3",
      "language": "python",
      "name": "python3"
    },
    "language_info": {
      "codemirror_mode": {
        "name": "ipython",
        "version": 3
      },
      "file_extension": ".py",
      "mimetype": "text/x-python",
      "name": "python",
      "nbconvert_exporter": "python",
      "pygments_lexer": "ipython3",
      "version": "3.7.1"
    },
    "colab": {
      "name": "03 - Notebook Basics.ipynb",
      "provenance": [],
      "include_colab_link": true
    }
  },
  "cells": [
    {
      "cell_type": "markdown",
      "metadata": {
        "id": "view-in-github",
        "colab_type": "text"
      },
      "source": [
        "<a href=\"https://colab.research.google.com/github/finr/data-analysis-class/blob/master/03_Notebook_Basics.ipynb\" target=\"_parent\"><img src=\"https://colab.research.google.com/assets/colab-badge.svg\" alt=\"Open In Colab\"/></a>"
      ]
    },
    {
      "cell_type": "markdown",
      "metadata": {
        "id": "ISq1b2gJmidj",
        "colab_type": "text"
      },
      "source": [
        "# Notebook Basics"
      ]
    },
    {
      "cell_type": "markdown",
      "metadata": {
        "id": "IklP2uvDmidk",
        "colab_type": "text"
      },
      "source": [
        "## The Notebook dashboard"
      ]
    },
    {
      "cell_type": "markdown",
      "metadata": {
        "id": "tzX67zQMmidk",
        "colab_type": "text"
      },
      "source": [
        "When you first start the notebook server, your browser will open to the notebook dashboard. The dashboard serves as a home page for the notebook. Its main purpose is to display the notebooks and files in the current directory. For example, here is a screenshot of the dashboard page for the `examples` directory in the Jupyter repository:\n",
        "\n",
        "![Jupyter dashboard showing files tab](https://docs.google.com/uc?id=1o-Bg5ZiLzgKwJfSQOPdc0LmrYv2UCw68)\n"
      ]
    },
    {
      "cell_type": "markdown",
      "metadata": {
        "id": "5rfIj1y1midl",
        "colab_type": "text"
      },
      "source": [
        "The top of the notebook list displays clickable breadcrumbs of the current directory. By clicking on these breadcrumbs or on sub-directories in the notebook list, you can navigate your file system.\n",
        "\n",
        "To create a new notebook, click on the \"New\" button at the top of the list and select a kernel from the dropdown (as seen below).  Which kernels are listed depend on what's installed on the server.  Some of the kernels in the screenshot below may not exist as an option to you.\n",
        "\n",
        "![Jupyter \"New\" menu](https://docs.google.com/uc?id=15cU5XaPvpgwfHTeTsvkW1L6ta-o5kGHm)"
      ]
    },
    {
      "cell_type": "markdown",
      "metadata": {
        "id": "GtFKqXLimidl",
        "colab_type": "text"
      },
      "source": [
        "Notebooks and files can be uploaded to the current directory by dragging a notebook file onto the notebook list or by the \"click here\" text above the list.\n",
        "\n",
        "The notebook list shows green \"Running\" text and a green notebook icon next to running notebooks (as seen below). Notebooks remain running until you explicitly shut them down; closing the notebook's page is not sufficient.\n",
        "\n",
        "\n",
        "![Jupyter dashboard showing one notebook with a running kernel](https://docs.google.com/uc?id=1SZE45tgQxVF8DboLlmvDBsyhN3Ku-sMs)"
      ]
    },
    {
      "cell_type": "markdown",
      "metadata": {
        "id": "PyNy8Qc0midm",
        "colab_type": "text"
      },
      "source": [
        "To shutdown, delete, duplicate, or rename a notebook check the checkbox next to it and an array of controls will appear at the top of the notebook list (as seen below).  You can also use the same operations on directories and files when applicable.\n",
        "\n",
        "![Buttons: Duplicate, rename, shutdown, delete, new, refresh](https://docs.google.com/uc?id=1A9sdTXZRdnih3QZekzcYFbBUPEuQa2mR)\n"
      ]
    },
    {
      "cell_type": "markdown",
      "metadata": {
        "id": "AXInYMrYmidn",
        "colab_type": "text"
      },
      "source": [
        "To see all of your running notebooks along with their directories, click on the \"Running\" tab:\n",
        "\n",
        "![Jupyter dashboard running tab](https://docs.google.com/uc?id=1KaB1k6YGOpVsGdw70R6uNLF5I_Y7nQjM)\n",
        "\n",
        "\n",
        "This view provides a convenient way to track notebooks that you start as you navigate the file system in a long running notebook server."
      ]
    },
    {
      "cell_type": "markdown",
      "metadata": {
        "id": "Yt5q6Iaemidn",
        "colab_type": "text"
      },
      "source": [
        "## Overview of the Notebook UI"
      ]
    },
    {
      "cell_type": "markdown",
      "metadata": {
        "id": "HZPyAs-Amido",
        "colab_type": "text"
      },
      "source": [
        "If you create a new notebook or open an existing one, you will be taken to the notebook user interface (UI). This UI allows you to run code and author notebook documents interactively. The notebook UI has the following main areas:\n",
        "\n",
        "* Menu\n",
        "* Toolbar\n",
        "* Notebook area and cells\n",
        "\n",
        "The notebook has an interactive tour of these elements that can be started in the \"Help:User Interface Tour\" menu item."
      ]
    },
    {
      "cell_type": "markdown",
      "metadata": {
        "id": "BzPlZyMKmido",
        "colab_type": "text"
      },
      "source": [
        "## Modal editor"
      ]
    },
    {
      "cell_type": "markdown",
      "metadata": {
        "id": "sVM08cyCmidp",
        "colab_type": "text"
      },
      "source": [
        "Starting with IPython 2.0, the Jupyter Notebook has a modal user interface. This means that the keyboard does different things depending on which mode the Notebook is in. There are two modes: edit mode and command mode."
      ]
    },
    {
      "cell_type": "markdown",
      "metadata": {
        "id": "ZeXctd8Rmidq",
        "colab_type": "text"
      },
      "source": [
        "### Edit mode"
      ]
    },
    {
      "cell_type": "markdown",
      "metadata": {
        "id": "8e4NK9NSmidq",
        "colab_type": "text"
      },
      "source": [
        "Edit mode is indicated by a green cell border and a prompt showing in the editor area:\n",
        "\n",
        "![Jupyter cell with green border](https://docs.google.com/uc?id=1Es1MjRnFJhSqyev2xqhmTLALcGwplTTO)\n",
        "\n",
        "When a cell is in edit mode, you can type into the cell, like a normal text editor."
      ]
    },
    {
      "cell_type": "markdown",
      "metadata": {
        "id": "l_8tYpRfmidr",
        "colab_type": "text"
      },
      "source": [
        "<div class=\"alert alert-success\">\n",
        "Enter edit mode by pressing `Enter` or using the mouse to click on a cell's editor area.\n",
        "</div>"
      ]
    },
    {
      "cell_type": "markdown",
      "metadata": {
        "id": "p-wbVjVbmidr",
        "colab_type": "text"
      },
      "source": [
        "### Command mode"
      ]
    },
    {
      "cell_type": "markdown",
      "metadata": {
        "id": "Msf31RuTmids",
        "colab_type": "text"
      },
      "source": [
        "Command mode is indicated by a grey cell border with a blue left margin:\n",
        "\n",
        "![Jupyter cell with blue & grey border](https://docs.google.com/uc?id=1_SfEv9V-w52p7kuEkJT8Y3gXrrnpQ9Un)\n",
        "\n",
        "When you are in command mode, you are able to edit the notebook as a whole, but not type into individual cells. Most importantly, in command mode, the keyboard is mapped to a set of shortcuts that let you perform notebook and cell actions efficiently. For example, if you are in command mode and you press `c`, you will copy the current cell - no modifier is needed."
      ]
    },
    {
      "cell_type": "markdown",
      "metadata": {
        "id": "Jk9j1Iqfmids",
        "colab_type": "text"
      },
      "source": [
        "<div class=\"alert alert-error\">\n",
        "Don't try to type into a cell in command mode; unexpected things will happen!\n",
        "</div>"
      ]
    },
    {
      "cell_type": "markdown",
      "metadata": {
        "id": "Lfk6FMq7midt",
        "colab_type": "text"
      },
      "source": [
        "<div class=\"alert alert-success\">\n",
        "Enter command mode by pressing `Esc` or using the mouse to click *outside* a cell's editor area.\n",
        "</div>"
      ]
    },
    {
      "cell_type": "markdown",
      "metadata": {
        "id": "OxNZbELXmidt",
        "colab_type": "text"
      },
      "source": [
        "## Mouse navigation"
      ]
    },
    {
      "cell_type": "markdown",
      "metadata": {
        "id": "T_-VZJbzmidu",
        "colab_type": "text"
      },
      "source": [
        "All navigation and actions in the Notebook are available using the mouse through the menubar and toolbar, which are both above the main Notebook area:\n",
        "\n",
        "![Jupyter notebook menus and toolbar](https://docs.google.com/uc?id=1qpgM_Sl0GavkBhyeuCN9DAWIqJWbXkFT)"
      ]
    },
    {
      "cell_type": "markdown",
      "metadata": {
        "id": "lBwJpBKnmidv",
        "colab_type": "text"
      },
      "source": [
        "The first idea of mouse based navigation is that **cells can be selected by clicking on them.** The currently selected cell gets a grey or green border depending on whether the notebook is in edit or command mode. If you click inside a cell's editor area, you will enter edit mode. If you click on the prompt or output area of a cell you will enter command mode.\n",
        "\n",
        "If you are running this notebook in a live session (not on http://nbviewer.jupyter.org) try selecting different cells and going between edit and command mode. Try typing into a cell."
      ]
    },
    {
      "cell_type": "markdown",
      "metadata": {
        "id": "KkgSORZ2midv",
        "colab_type": "text"
      },
      "source": [
        "The second idea of mouse based navigation is that **cell actions usually apply to the currently selected cell**. Thus if you want to run the code in a cell, you would select it and click the <button class='btn btn-default btn-xs'><i class=\"fa fa-step-forward icon-step-forward\"></i></button> button in the toolbar or the \"Cell:Run\" menu item. Similarly, to copy a cell you would select it and click the <button class='btn btn-default btn-xs'><i class=\"fa fa-copy icon-copy\"></i></button> button in the toolbar or the \"Edit:Copy\" menu item. With this simple pattern, you should be able to do most everything you need with the mouse.\n",
        "\n",
        "Markdown cells have one other state that can be modified with the mouse. These cells can either be rendered or unrendered. When they are rendered, you will see a nice formatted representation of the cell's contents. When they are unrendered, you will see the raw text source of the cell. To render the selected cell with the mouse, click the <button class='btn btn-default btn-xs'><i class=\"fa fa-step-forward icon-step-forward\"></i></button> button in the toolbar or the \"Cell:Run\" menu item. To unrender the selected cell, double click on the cell."
      ]
    },
    {
      "cell_type": "markdown",
      "metadata": {
        "id": "I6g4rxKGmidw",
        "colab_type": "text"
      },
      "source": [
        "## Keyboard Navigation"
      ]
    },
    {
      "cell_type": "markdown",
      "metadata": {
        "id": "hx7_7e1qmidx",
        "colab_type": "text"
      },
      "source": [
        "The modal user interface of the Jupyter Notebook has been optimized for efficient keyboard usage. This is made possible by having two different sets of keyboard shortcuts: one set that is active in edit mode and another in command mode.\n",
        "\n",
        "The most important keyboard shortcuts are `Enter`, which enters edit mode, and `Esc`, which enters command mode.\n",
        "\n",
        "In edit mode, most of the keyboard is dedicated to typing into the cell's editor. Thus, in edit mode there are relatively few shortcuts.  In command mode, the entire keyboard is available for shortcuts, so there are many more.  The `Help`->`Keyboard Shortcuts` dialog lists the available shortcuts."
      ]
    },
    {
      "cell_type": "markdown",
      "metadata": {
        "id": "A14PWPU0midy",
        "colab_type": "text"
      },
      "source": [
        "We recommend learning the command mode shortcuts in the following rough order:\n",
        "\n",
        "1. Basic navigation: `enter`, `shift-enter`, `up/k`, `down/j`\n",
        "2. Saving the notebook: `s`\n",
        "2. Change Cell types: `y`, `m`, `1-6`, `t`\n",
        "3. Cell creation: `a`, `b`\n",
        "4. Cell editing: `x`, `c`, `v`, `d`, `z`\n",
        "5. Kernel operations: `i`, `0` (press twice)"
      ]
    },
    {
      "cell_type": "code",
      "metadata": {
        "id": "2xfC3ocHmidy",
        "colab_type": "code",
        "colab": {}
      },
      "source": [
        ""
      ],
      "execution_count": 0,
      "outputs": []
    }
  ]
}