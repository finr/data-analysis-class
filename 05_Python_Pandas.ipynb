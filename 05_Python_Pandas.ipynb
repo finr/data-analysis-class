{
  "nbformat": 4,
  "nbformat_minor": 0,
  "metadata": {
    "kernelspec": {
      "display_name": "Python 3",
      "language": "python",
      "name": "python3"
    },
    "language_info": {
      "codemirror_mode": {
        "name": "ipython",
        "version": 3
      },
      "file_extension": ".py",
      "mimetype": "text/x-python",
      "name": "python",
      "nbconvert_exporter": "python",
      "pygments_lexer": "ipython3",
      "version": "3.7.1"
    },
    "varInspector": {
      "cols": {
        "lenName": 16,
        "lenType": 16,
        "lenVar": 40
      },
      "kernels_config": {
        "python": {
          "delete_cmd_postfix": "",
          "delete_cmd_prefix": "del ",
          "library": "var_list.py",
          "varRefreshCmd": "print(var_dic_list())"
        },
        "r": {
          "delete_cmd_postfix": ") ",
          "delete_cmd_prefix": "rm(",
          "library": "var_list.r",
          "varRefreshCmd": "cat(var_dic_list()) "
        }
      },
      "types_to_exclude": [
        "module",
        "function",
        "builtin_function_or_method",
        "instance",
        "_Feature"
      ],
      "window_display": false
    },
    "colab": {
      "name": "05 - Python Pandas.ipynb",
      "provenance": [],
      "include_colab_link": true
    }
  },
  "cells": [
    {
      "cell_type": "markdown",
      "metadata": {
        "id": "view-in-github",
        "colab_type": "text"
      },
      "source": [
        "<a href=\"https://colab.research.google.com/github/finr/data-analysis-class/blob/master/05_Python_Pandas.ipynb\" target=\"_parent\"><img src=\"https://colab.research.google.com/assets/colab-badge.svg\" alt=\"Open In Colab\"/></a>"
      ]
    },
    {
      "cell_type": "markdown",
      "metadata": {
        "id": "X93vMM8uqPCN",
        "colab_type": "text"
      },
      "source": [
        "### Acesso ao sistema de arquivos"
      ]
    },
    {
      "cell_type": "code",
      "metadata": {
        "id": "lAQS7x6tqPCO",
        "colab_type": "code",
        "colab": {
          "base_uri": "https://localhost:8080/",
          "height": 54
        },
        "outputId": "de012239-9dfd-45c1-ee54-d0898beac745"
      },
      "source": [
        "import pandas as pd\n",
        "#from gcsfs import GCSFileSystem\n",
        "from s3fs import S3FileSystem\n",
        "\n",
        "#gcs = GCSFileSystem(token='cloud', access='read_only')\n",
        "s3 = S3FileSystem(anon=True)\n",
        "\n",
        "details = s3.ls('cesarschool-data-samples/sample01')\n",
        "print(details)"
      ],
      "execution_count": 1,
      "outputs": [
        {
          "output_type": "stream",
          "text": [
            "['cesarschool-data-samples/sample01/', 'cesarschool-data-samples/sample01/sample01-000000000000', 'cesarschool-data-samples/sample01/sample01-000000000001', 'cesarschool-data-samples/sample01/sample01-000000000002', 'cesarschool-data-samples/sample01/sample01-000000000003', 'cesarschool-data-samples/sample01/sample01-000000000004', 'cesarschool-data-samples/sample01/sample01-000000000005', 'cesarschool-data-samples/sample01/sample01-000000000006', 'cesarschool-data-samples/sample01/sample01-000000000007', 'cesarschool-data-samples/sample01/sample01-000000000008', 'cesarschool-data-samples/sample01/sample01-000000000009', 'cesarschool-data-samples/sample01/sample01-000000000010', 'cesarschool-data-samples/sample01/sample01-000000000011', 'cesarschool-data-samples/sample01/sample01-000000000012', 'cesarschool-data-samples/sample01/sample01-000000000013', 'cesarschool-data-samples/sample01/sample01-000000000014', 'cesarschool-data-samples/sample01/sample01-000000000015', 'cesarschool-data-samples/sample01/sample01-000000000016', 'cesarschool-data-samples/sample01/sample01-000000000017', 'cesarschool-data-samples/sample01/sample01-000000000018', 'cesarschool-data-samples/sample01/sample01-000000000019', 'cesarschool-data-samples/sample01/sample01-000000000020', 'cesarschool-data-samples/sample01/sample01-000000000021', 'cesarschool-data-samples/sample01/sample01-000000000022', 'cesarschool-data-samples/sample01/sample01-000000000023', 'cesarschool-data-samples/sample01/sample01-000000000024']\n"
          ],
          "name": "stdout"
        }
      ]
    },
    {
      "cell_type": "markdown",
      "metadata": {
        "id": "LapuNKZaqPCQ",
        "colab_type": "text"
      },
      "source": [
        "## `DataFrames`\n",
        "### Carregamento do primeiro arquivo do diretório"
      ]
    },
    {
      "cell_type": "code",
      "metadata": {
        "id": "TjmfJhz8qPCR",
        "colab_type": "code",
        "colab": {}
      },
      "source": [
        "with s3.open(details[1], 'rb') as f:\n",
        "    df = pd.read_csv(f)\n",
        "    "
      ],
      "execution_count": 0,
      "outputs": []
    },
    {
      "cell_type": "markdown",
      "metadata": {
        "id": "B2vbR3a-qPCT",
        "colab_type": "text"
      },
      "source": [
        "### Formato do `DataFrame`"
      ]
    },
    {
      "cell_type": "code",
      "metadata": {
        "id": "u345k42HqPCU",
        "colab_type": "code",
        "colab": {
          "base_uri": "https://localhost:8080/",
          "height": 51
        },
        "outputId": "56e27b32-ee1b-40ac-eb99-bbd0c122325d"
      },
      "source": [
        "# Tupla (num_linhas, num_colunas)\n",
        "print(df.shape)\n",
        "print(df.columns)"
      ],
      "execution_count": 3,
      "outputs": [
        {
          "output_type": "stream",
          "text": [
            "(5003763, 5)\n",
            "Index(['timestamp', 'user_id', 'lat', 'lng', 'country_code'], dtype='object')\n"
          ],
          "name": "stdout"
        }
      ]
    },
    {
      "cell_type": "markdown",
      "metadata": {
        "id": "AokbyLYdqPCV",
        "colab_type": "text"
      },
      "source": [
        "### Restrição de linhas"
      ]
    },
    {
      "cell_type": "code",
      "metadata": {
        "id": "BJYPrno0qPCW",
        "colab_type": "code",
        "colab": {}
      },
      "source": [
        "# Carregamento do primeiro arquivo do diretório\n",
        "# Restrição de linhas carregadas\n",
        "with s3.open(details[1], 'rb') as f:\n",
        "    df = pd.read_csv(f, nrows=100)"
      ],
      "execution_count": 0,
      "outputs": []
    },
    {
      "cell_type": "code",
      "metadata": {
        "id": "qWff-2APqPCY",
        "colab_type": "code",
        "colab": {
          "base_uri": "https://localhost:8080/",
          "height": 51
        },
        "outputId": "95aadf36-70dd-4dd6-8a87-0347e47c042f"
      },
      "source": [
        "print(df.shape)\n",
        "print(df.columns)"
      ],
      "execution_count": 5,
      "outputs": [
        {
          "output_type": "stream",
          "text": [
            "(100, 5)\n",
            "Index(['timestamp', 'user_id', 'lat', 'lng', 'country_code'], dtype='object')\n"
          ],
          "name": "stdout"
        }
      ]
    },
    {
      "cell_type": "markdown",
      "metadata": {
        "id": "Dj0ODCF7qPCZ",
        "colab_type": "text"
      },
      "source": [
        "### Primeiras n linhas"
      ]
    },
    {
      "cell_type": "code",
      "metadata": {
        "id": "iq4A9QynqPCa",
        "colab_type": "code",
        "colab": {
          "base_uri": "https://localhost:8080/",
          "height": 153
        },
        "outputId": "e61426a2-db7c-4f4a-cc74-5ea13ec2b286"
      },
      "source": [
        "# Padrão: 5 linhas\n",
        "print(df.head())"
      ],
      "execution_count": 6,
      "outputs": [
        {
          "output_type": "stream",
          "text": [
            "             timestamp  ... country_code\n",
            "0  2016-09-24 08:12:00  ...           US\n",
            "1  2016-09-30 08:14:00  ...           US\n",
            "2  2016-03-28 19:01:00  ...          NaN\n",
            "3  2020-11-16 12:57:00  ...           US\n",
            "4  2016-03-02 20:43:00  ...          NaN\n",
            "\n",
            "[5 rows x 5 columns]\n"
          ],
          "name": "stdout"
        }
      ]
    },
    {
      "cell_type": "markdown",
      "metadata": {
        "id": "4qq6iQnMqPCc",
        "colab_type": "text"
      },
      "source": [
        "### Últimas n linhas"
      ]
    },
    {
      "cell_type": "code",
      "metadata": {
        "id": "S_ZHb1dvqPCc",
        "colab_type": "code",
        "colab": {
          "base_uri": "https://localhost:8080/",
          "height": 153
        },
        "outputId": "11268df3-813c-4cbb-a19b-90c0ccfb552a"
      },
      "source": [
        "# Padrão: 5 linhas\n",
        "print(df.tail())"
      ],
      "execution_count": 7,
      "outputs": [
        {
          "output_type": "stream",
          "text": [
            "              timestamp  ... country_code\n",
            "95  2016-08-25 09:43:00  ...           MX\n",
            "96  2016-12-11 00:20:00  ...           US\n",
            "97  2016-09-14 10:19:00  ...           MX\n",
            "98  2016-02-08 11:53:00  ...           CA\n",
            "99  2016-04-16 19:04:00  ...           CA\n",
            "\n",
            "[5 rows x 5 columns]\n"
          ],
          "name": "stdout"
        }
      ]
    },
    {
      "cell_type": "markdown",
      "metadata": {
        "id": "1WyDII-sqPCe",
        "colab_type": "text"
      },
      "source": [
        "### Ordenação por valores de campos"
      ]
    },
    {
      "cell_type": "code",
      "metadata": {
        "id": "Mw8v93e4qPCf",
        "colab_type": "code",
        "colab": {
          "base_uri": "https://localhost:8080/",
          "height": 102
        },
        "outputId": "7e858b41-73b8-4b76-c40a-00f2edea62f1"
      },
      "source": [
        "print(df.sort_values(by='timestamp').head(2))"
      ],
      "execution_count": 8,
      "outputs": [
        {
          "output_type": "stream",
          "text": [
            "              timestamp  ... country_code\n",
            "35  2016-01-05 09:14:00  ...           US\n",
            "76  2016-01-14 19:44:00  ...           US\n",
            "\n",
            "[2 rows x 5 columns]\n"
          ],
          "name": "stdout"
        }
      ]
    },
    {
      "cell_type": "code",
      "metadata": {
        "id": "XPWksEA-qPCi",
        "colab_type": "code",
        "colab": {
          "base_uri": "https://localhost:8080/",
          "height": 153
        },
        "outputId": "ae5216ec-2dc7-4479-e6d8-02ed6073a00b"
      },
      "source": [
        "print(df.sort_values(by='timestamp').tail())"
      ],
      "execution_count": 9,
      "outputs": [
        {
          "output_type": "stream",
          "text": [
            "   timestamp                               user_id  ...         lng  country_code\n",
            "9        NaN  5a12ba85-a8ad-463c-bbf1-f87b5b88c888  ...  -74.439870            US\n",
            "72       NaN  9ac854d2-07c1-490f-a1e6-5ec1e087edf6  ... -117.509172            US\n",
            "73       NaN  63ea2289-27fa-406b-a188-b42e477f16a1  ...  -75.088118            US\n",
            "74       NaN  3dbdf23c-3c01-401d-9e38-fbca5f362826  ... -113.844129            CA\n",
            "81       NaN  ae3814c2-a465-42d6-9d40-6e5c5ac4a0ca  ...  -96.971736            US\n",
            "\n",
            "[5 rows x 5 columns]\n"
          ],
          "name": "stdout"
        }
      ]
    },
    {
      "cell_type": "code",
      "metadata": {
        "id": "IbKrSzivqPCk",
        "colab_type": "code",
        "colab": {
          "base_uri": "https://localhost:8080/",
          "height": 153
        },
        "outputId": "1d0e4a5f-cc46-4e9f-8d53-f0a8e281cd01"
      },
      "source": [
        "print(df.head())"
      ],
      "execution_count": 10,
      "outputs": [
        {
          "output_type": "stream",
          "text": [
            "             timestamp  ... country_code\n",
            "0  2016-09-24 08:12:00  ...           US\n",
            "1  2016-09-30 08:14:00  ...           US\n",
            "2  2016-03-28 19:01:00  ...          NaN\n",
            "3  2020-11-16 12:57:00  ...           US\n",
            "4  2016-03-02 20:43:00  ...          NaN\n",
            "\n",
            "[5 rows x 5 columns]\n"
          ],
          "name": "stdout"
        }
      ]
    },
    {
      "cell_type": "code",
      "metadata": {
        "id": "hRTNBsZGqPCn",
        "colab_type": "code",
        "colab": {
          "base_uri": "https://localhost:8080/",
          "height": 153
        },
        "outputId": "1cd9346b-3cc6-41c4-8e95-03cccc26c389"
      },
      "source": [
        "df.sort_values(by='timestamp', inplace=True)\n",
        "print(df.head())"
      ],
      "execution_count": 11,
      "outputs": [
        {
          "output_type": "stream",
          "text": [
            "              timestamp  ... country_code\n",
            "35  2016-01-05 09:14:00  ...           US\n",
            "76  2016-01-14 19:44:00  ...           US\n",
            "79  2016-01-16 09:21:00  ...           US\n",
            "8   2016-01-23 09:40:00  ...           CA\n",
            "41  2016-01-30 19:19:00  ...           US\n",
            "\n",
            "[5 rows x 5 columns]\n"
          ],
          "name": "stdout"
        }
      ]
    },
    {
      "cell_type": "markdown",
      "metadata": {
        "id": "0Z0dEQDfqPCo",
        "colab_type": "text"
      },
      "source": [
        "### Seleção de colunas"
      ]
    },
    {
      "cell_type": "code",
      "metadata": {
        "id": "7Pk4ksTdqPCp",
        "colab_type": "code",
        "colab": {}
      },
      "source": [
        "df_select = df[['country_code', 'user_id', 'lat']]"
      ],
      "execution_count": 0,
      "outputs": []
    },
    {
      "cell_type": "code",
      "metadata": {
        "id": "ngwDKq0aqPCq",
        "colab_type": "code",
        "colab": {
          "base_uri": "https://localhost:8080/",
          "height": 34
        },
        "outputId": "ac23acc5-fa3a-4263-eac0-f93d92d05b44"
      },
      "source": [
        "df_select.shape"
      ],
      "execution_count": 24,
      "outputs": [
        {
          "output_type": "execute_result",
          "data": {
            "text/plain": [
              "(100, 3)"
            ]
          },
          "metadata": {
            "tags": []
          },
          "execution_count": 24
        }
      ]
    },
    {
      "cell_type": "code",
      "metadata": {
        "id": "fWTPyh5MqPCs",
        "colab_type": "code",
        "colab": {
          "base_uri": "https://localhost:8080/",
          "height": 204
        },
        "outputId": "430576a2-9f2c-4296-a90a-9b8f62577729"
      },
      "source": [
        "df_select.head()"
      ],
      "execution_count": 25,
      "outputs": [
        {
          "output_type": "execute_result",
          "data": {
            "text/html": [
              "<div>\n",
              "<style scoped>\n",
              "    .dataframe tbody tr th:only-of-type {\n",
              "        vertical-align: middle;\n",
              "    }\n",
              "\n",
              "    .dataframe tbody tr th {\n",
              "        vertical-align: top;\n",
              "    }\n",
              "\n",
              "    .dataframe thead th {\n",
              "        text-align: right;\n",
              "    }\n",
              "</style>\n",
              "<table border=\"1\" class=\"dataframe\">\n",
              "  <thead>\n",
              "    <tr style=\"text-align: right;\">\n",
              "      <th></th>\n",
              "      <th>country_code</th>\n",
              "      <th>user_id</th>\n",
              "      <th>lat</th>\n",
              "    </tr>\n",
              "  </thead>\n",
              "  <tbody>\n",
              "    <tr>\n",
              "      <th>35</th>\n",
              "      <td>US</td>\n",
              "      <td>7df00d0e-f732-4a10-9f69-b86d27a49150</td>\n",
              "      <td>29.766882</td>\n",
              "    </tr>\n",
              "    <tr>\n",
              "      <th>76</th>\n",
              "      <td>US</td>\n",
              "      <td>df410942-1d65-4df0-b344-baafe64237b9</td>\n",
              "      <td>37.176933</td>\n",
              "    </tr>\n",
              "    <tr>\n",
              "      <th>79</th>\n",
              "      <td>US</td>\n",
              "      <td>df410942-1d65-4df0-b344-baafe64237b9</td>\n",
              "      <td>37.246933</td>\n",
              "    </tr>\n",
              "    <tr>\n",
              "      <th>8</th>\n",
              "      <td>CA</td>\n",
              "      <td>39fbf7fe-c19e-4aa6-a62c-570564b33e3d</td>\n",
              "      <td>46.816283</td>\n",
              "    </tr>\n",
              "    <tr>\n",
              "      <th>41</th>\n",
              "      <td>US</td>\n",
              "      <td>bef429cd-ef14-4afc-8bac-e2c0c746fac2</td>\n",
              "      <td>41.703392</td>\n",
              "    </tr>\n",
              "  </tbody>\n",
              "</table>\n",
              "</div>"
            ],
            "text/plain": [
              "   country_code                               user_id        lat\n",
              "35           US  7df00d0e-f732-4a10-9f69-b86d27a49150  29.766882\n",
              "76           US  df410942-1d65-4df0-b344-baafe64237b9  37.176933\n",
              "79           US  df410942-1d65-4df0-b344-baafe64237b9  37.246933\n",
              "8            CA  39fbf7fe-c19e-4aa6-a62c-570564b33e3d  46.816283\n",
              "41           US  bef429cd-ef14-4afc-8bac-e2c0c746fac2  41.703392"
            ]
          },
          "metadata": {
            "tags": []
          },
          "execution_count": 25
        }
      ]
    },
    {
      "cell_type": "code",
      "metadata": {
        "id": "xcyEDfS3qPCu",
        "colab_type": "code",
        "colab": {
          "base_uri": "https://localhost:8080/",
          "height": 204
        },
        "outputId": "ef95fc6d-d562-4cf6-8bbd-99f481f61dc2"
      },
      "source": [
        "df_select.tail()"
      ],
      "execution_count": 26,
      "outputs": [
        {
          "output_type": "execute_result",
          "data": {
            "text/html": [
              "<div>\n",
              "<style scoped>\n",
              "    .dataframe tbody tr th:only-of-type {\n",
              "        vertical-align: middle;\n",
              "    }\n",
              "\n",
              "    .dataframe tbody tr th {\n",
              "        vertical-align: top;\n",
              "    }\n",
              "\n",
              "    .dataframe thead th {\n",
              "        text-align: right;\n",
              "    }\n",
              "</style>\n",
              "<table border=\"1\" class=\"dataframe\">\n",
              "  <thead>\n",
              "    <tr style=\"text-align: right;\">\n",
              "      <th></th>\n",
              "      <th>country_code</th>\n",
              "      <th>user_id</th>\n",
              "      <th>lat</th>\n",
              "    </tr>\n",
              "  </thead>\n",
              "  <tbody>\n",
              "    <tr>\n",
              "      <th>9</th>\n",
              "      <td>US</td>\n",
              "      <td>5a12ba85-a8ad-463c-bbf1-f87b5b88c888</td>\n",
              "      <td>40.857149</td>\n",
              "    </tr>\n",
              "    <tr>\n",
              "      <th>72</th>\n",
              "      <td>US</td>\n",
              "      <td>9ac854d2-07c1-490f-a1e6-5ec1e087edf6</td>\n",
              "      <td>32.704240</td>\n",
              "    </tr>\n",
              "    <tr>\n",
              "      <th>73</th>\n",
              "      <td>US</td>\n",
              "      <td>63ea2289-27fa-406b-a188-b42e477f16a1</td>\n",
              "      <td>40.012414</td>\n",
              "    </tr>\n",
              "    <tr>\n",
              "      <th>74</th>\n",
              "      <td>CA</td>\n",
              "      <td>3dbdf23c-3c01-401d-9e38-fbca5f362826</td>\n",
              "      <td>53.525550</td>\n",
              "    </tr>\n",
              "    <tr>\n",
              "      <th>81</th>\n",
              "      <td>US</td>\n",
              "      <td>ae3814c2-a465-42d6-9d40-6e5c5ac4a0ca</td>\n",
              "      <td>32.860353</td>\n",
              "    </tr>\n",
              "  </tbody>\n",
              "</table>\n",
              "</div>"
            ],
            "text/plain": [
              "   country_code                               user_id        lat\n",
              "9            US  5a12ba85-a8ad-463c-bbf1-f87b5b88c888  40.857149\n",
              "72           US  9ac854d2-07c1-490f-a1e6-5ec1e087edf6  32.704240\n",
              "73           US  63ea2289-27fa-406b-a188-b42e477f16a1  40.012414\n",
              "74           CA  3dbdf23c-3c01-401d-9e38-fbca5f362826  53.525550\n",
              "81           US  ae3814c2-a465-42d6-9d40-6e5c5ac4a0ca  32.860353"
            ]
          },
          "metadata": {
            "tags": []
          },
          "execution_count": 26
        }
      ]
    },
    {
      "cell_type": "markdown",
      "metadata": {
        "id": "LJS5whFLqPCv",
        "colab_type": "text"
      },
      "source": [
        "### Filtragem"
      ]
    },
    {
      "cell_type": "code",
      "metadata": {
        "id": "uu5VujlNqPCw",
        "colab_type": "code",
        "colab": {
          "base_uri": "https://localhost:8080/",
          "height": 204
        },
        "outputId": "1acbe1a3-423d-4bf1-af6a-0cce055b9307"
      },
      "source": [
        "df_select[df_select['country_code'] == 'CA'].head()"
      ],
      "execution_count": 27,
      "outputs": [
        {
          "output_type": "execute_result",
          "data": {
            "text/html": [
              "<div>\n",
              "<style scoped>\n",
              "    .dataframe tbody tr th:only-of-type {\n",
              "        vertical-align: middle;\n",
              "    }\n",
              "\n",
              "    .dataframe tbody tr th {\n",
              "        vertical-align: top;\n",
              "    }\n",
              "\n",
              "    .dataframe thead th {\n",
              "        text-align: right;\n",
              "    }\n",
              "</style>\n",
              "<table border=\"1\" class=\"dataframe\">\n",
              "  <thead>\n",
              "    <tr style=\"text-align: right;\">\n",
              "      <th></th>\n",
              "      <th>country_code</th>\n",
              "      <th>user_id</th>\n",
              "      <th>lat</th>\n",
              "    </tr>\n",
              "  </thead>\n",
              "  <tbody>\n",
              "    <tr>\n",
              "      <th>8</th>\n",
              "      <td>CA</td>\n",
              "      <td>39fbf7fe-c19e-4aa6-a62c-570564b33e3d</td>\n",
              "      <td>46.816283</td>\n",
              "    </tr>\n",
              "    <tr>\n",
              "      <th>98</th>\n",
              "      <td>CA</td>\n",
              "      <td>0bfe5d3a-b3d9-4373-833c-6ff85ff1f2e6</td>\n",
              "      <td>45.995376</td>\n",
              "    </tr>\n",
              "    <tr>\n",
              "      <th>22</th>\n",
              "      <td>CA</td>\n",
              "      <td>009dd0b6-ed97-4462-979c-fdd971d9363a</td>\n",
              "      <td>43.776535</td>\n",
              "    </tr>\n",
              "    <tr>\n",
              "      <th>27</th>\n",
              "      <td>CA</td>\n",
              "      <td>5349a433-f5a0-4606-addc-fad0c3d5c998</td>\n",
              "      <td>45.038786</td>\n",
              "    </tr>\n",
              "    <tr>\n",
              "      <th>84</th>\n",
              "      <td>CA</td>\n",
              "      <td>df22f564-e9e3-444d-98db-8667f2394cfd</td>\n",
              "      <td>46.856283</td>\n",
              "    </tr>\n",
              "  </tbody>\n",
              "</table>\n",
              "</div>"
            ],
            "text/plain": [
              "   country_code                               user_id        lat\n",
              "8            CA  39fbf7fe-c19e-4aa6-a62c-570564b33e3d  46.816283\n",
              "98           CA  0bfe5d3a-b3d9-4373-833c-6ff85ff1f2e6  45.995376\n",
              "22           CA  009dd0b6-ed97-4462-979c-fdd971d9363a  43.776535\n",
              "27           CA  5349a433-f5a0-4606-addc-fad0c3d5c998  45.038786\n",
              "84           CA  df22f564-e9e3-444d-98db-8667f2394cfd  46.856283"
            ]
          },
          "metadata": {
            "tags": []
          },
          "execution_count": 27
        }
      ]
    },
    {
      "cell_type": "code",
      "metadata": {
        "id": "xd6n3zrcqPCx",
        "colab_type": "code",
        "colab": {
          "base_uri": "https://localhost:8080/",
          "height": 111
        },
        "outputId": "417c197e-5cce-4341-a967-38699b4e3f4a"
      },
      "source": [
        "df_select[(df_select['country_code'] == 'CA') & (df_select['lat'] > 50)].head()"
      ],
      "execution_count": 28,
      "outputs": [
        {
          "output_type": "execute_result",
          "data": {
            "text/html": [
              "<div>\n",
              "<style scoped>\n",
              "    .dataframe tbody tr th:only-of-type {\n",
              "        vertical-align: middle;\n",
              "    }\n",
              "\n",
              "    .dataframe tbody tr th {\n",
              "        vertical-align: top;\n",
              "    }\n",
              "\n",
              "    .dataframe thead th {\n",
              "        text-align: right;\n",
              "    }\n",
              "</style>\n",
              "<table border=\"1\" class=\"dataframe\">\n",
              "  <thead>\n",
              "    <tr style=\"text-align: right;\">\n",
              "      <th></th>\n",
              "      <th>country_code</th>\n",
              "      <th>user_id</th>\n",
              "      <th>lat</th>\n",
              "    </tr>\n",
              "  </thead>\n",
              "  <tbody>\n",
              "    <tr>\n",
              "      <th>87</th>\n",
              "      <td>CA</td>\n",
              "      <td>591f1df7-7c35-48b7-bea1-f432b023bcfd</td>\n",
              "      <td>53.58555</td>\n",
              "    </tr>\n",
              "    <tr>\n",
              "      <th>74</th>\n",
              "      <td>CA</td>\n",
              "      <td>3dbdf23c-3c01-401d-9e38-fbca5f362826</td>\n",
              "      <td>53.52555</td>\n",
              "    </tr>\n",
              "  </tbody>\n",
              "</table>\n",
              "</div>"
            ],
            "text/plain": [
              "   country_code                               user_id       lat\n",
              "87           CA  591f1df7-7c35-48b7-bea1-f432b023bcfd  53.58555\n",
              "74           CA  3dbdf23c-3c01-401d-9e38-fbca5f362826  53.52555"
            ]
          },
          "metadata": {
            "tags": []
          },
          "execution_count": 28
        }
      ]
    },
    {
      "cell_type": "markdown",
      "metadata": {
        "id": "mbBqK15sqPCz",
        "colab_type": "text"
      },
      "source": [
        "### Agrupamentos, agregações, funções"
      ]
    },
    {
      "cell_type": "code",
      "metadata": {
        "id": "pZPRcDCAqPC1",
        "colab_type": "code",
        "colab": {
          "base_uri": "https://localhost:8080/",
          "height": 34
        },
        "outputId": "aa034885-167e-445d-ac13-cd0bbb9e17d9"
      },
      "source": [
        "print(df_select.groupby('country_code'))"
      ],
      "execution_count": 29,
      "outputs": [
        {
          "output_type": "stream",
          "text": [
            "<pandas.core.groupby.generic.DataFrameGroupBy object at 0x7f5235990a90>\n"
          ],
          "name": "stdout"
        }
      ]
    },
    {
      "cell_type": "code",
      "metadata": {
        "id": "3dBnM6cWqPC3",
        "colab_type": "code",
        "colab": {
          "base_uri": "https://localhost:8080/",
          "height": 153
        },
        "outputId": "3ca40994-22db-4696-c14e-026c0534bd81"
      },
      "source": [
        "print(df_select.groupby('country_code').describe())"
      ],
      "execution_count": 30,
      "outputs": [
        {
          "output_type": "stream",
          "text": [
            "               lat                       ...                                 \n",
            "             count       mean       std  ...        50%        75%        max\n",
            "country_code                             ...                                 \n",
            "CA            27.0  46.908644  2.514773  ...  46.816283  47.928900  53.585550\n",
            "MX            27.0  23.036734  5.225629  ...  20.522919  25.703728  32.646682\n",
            "US            41.0  34.542863  3.694474  ...  33.605099  37.246933  41.833393\n",
            "\n",
            "[3 rows x 8 columns]\n"
          ],
          "name": "stdout"
        }
      ]
    },
    {
      "cell_type": "code",
      "metadata": {
        "id": "Li-lmiAYqPC5",
        "colab_type": "code",
        "colab": {
          "base_uri": "https://localhost:8080/",
          "height": 102
        },
        "outputId": "456d53d9-8c5e-4247-ec26-da5f66625ccc"
      },
      "source": [
        "print(df_select.groupby('country_code')['lat'].count())"
      ],
      "execution_count": 31,
      "outputs": [
        {
          "output_type": "stream",
          "text": [
            "country_code\n",
            "CA    27\n",
            "MX    27\n",
            "US    41\n",
            "Name: lat, dtype: int64\n"
          ],
          "name": "stdout"
        }
      ]
    },
    {
      "cell_type": "code",
      "metadata": {
        "id": "mMHW26OsqPC6",
        "colab_type": "code",
        "colab": {
          "base_uri": "https://localhost:8080/",
          "height": 102
        },
        "outputId": "ba3fbc82-47c0-448e-cb44-bb95e9a6a7c7"
      },
      "source": [
        "print(df_select.groupby('country_code')['lat'].max())"
      ],
      "execution_count": 32,
      "outputs": [
        {
          "output_type": "stream",
          "text": [
            "country_code\n",
            "CA    53.585550\n",
            "MX    32.646682\n",
            "US    41.833393\n",
            "Name: lat, dtype: float64\n"
          ],
          "name": "stdout"
        }
      ]
    },
    {
      "cell_type": "code",
      "metadata": {
        "id": "sqLQGGhQqPC8",
        "colab_type": "code",
        "colab": {
          "base_uri": "https://localhost:8080/",
          "height": 102
        },
        "outputId": "27722d8f-e60f-4614-a103-29d4167df2bb"
      },
      "source": [
        "print(df_select.groupby('country_code')['lat'].min())"
      ],
      "execution_count": 33,
      "outputs": [
        {
          "output_type": "stream",
          "text": [
            "country_code\n",
            "CA    43.556535\n",
            "MX    18.950034\n",
            "US    29.571137\n",
            "Name: lat, dtype: float64\n"
          ],
          "name": "stdout"
        }
      ]
    },
    {
      "cell_type": "code",
      "metadata": {
        "id": "bc363vLlqPC_",
        "colab_type": "code",
        "colab": {
          "base_uri": "https://localhost:8080/",
          "height": 102
        },
        "outputId": "33eb5421-f396-4cc8-9f79-eb299703f8d1"
      },
      "source": [
        "print(df.groupby('country_code')['lat'].mean())"
      ],
      "execution_count": 34,
      "outputs": [
        {
          "output_type": "stream",
          "text": [
            "country_code\n",
            "CA    46.908644\n",
            "MX    23.036734\n",
            "US    34.542863\n",
            "Name: lat, dtype: float64\n"
          ],
          "name": "stdout"
        }
      ]
    },
    {
      "cell_type": "code",
      "metadata": {
        "id": "GV_LdRVFqPDB",
        "colab_type": "code",
        "colab": {
          "base_uri": "https://localhost:8080/",
          "height": 1000
        },
        "outputId": "f1d71718-c2da-42c4-dcbb-c5b71a65bb70"
      },
      "source": [
        "print(df_select.groupby('country_code')['user_id'].value_counts())"
      ],
      "execution_count": 35,
      "outputs": [
        {
          "output_type": "stream",
          "text": [
            "country_code  user_id                             \n",
            "CA            009dd0b6-ed97-4462-979c-fdd971d9363a    2\n",
            "              e402d645-71d4-4734-be1d-1e672eff4beb    2\n",
            "              0bfe5d3a-b3d9-4373-833c-6ff85ff1f2e6    1\n",
            "              1275f45a-6c72-4e38-bf27-24a842f4e496    1\n",
            "              2041dbc1-6d34-4c43-adbd-69abc1f2528a    1\n",
            "              25426089-c57d-4836-a29e-fd21e9da6263    1\n",
            "              274b9b2a-c383-4ef9-843a-6c956b4fedb1    1\n",
            "              39fbf7fe-c19e-4aa6-a62c-570564b33e3d    1\n",
            "              3dbdf23c-3c01-401d-9e38-fbca5f362826    1\n",
            "              455d192a-0179-4af8-a253-e8f4481b53aa    1\n",
            "              473897d5-9dfb-411f-ba8a-7367d5bf4b35    1\n",
            "              49cc7bac-e0ba-4f76-b6b6-3b383168286a    1\n",
            "              4de91454-084e-4fe2-89d2-118ec10e5d2b    1\n",
            "              5349a433-f5a0-4606-addc-fad0c3d5c998    1\n",
            "              591f1df7-7c35-48b7-bea1-f432b023bcfd    1\n",
            "              68efa6cb-115e-4f44-9e04-4e9245d4f089    1\n",
            "              6a46e008-48fb-4c06-99f7-3c351450fb75    1\n",
            "              9b2da28f-a0de-44b2-bdbb-bcdc7104fef7    1\n",
            "              aeb4b9f0-4f52-4507-8657-ffdf06cd4704    1\n",
            "              b4c02c8f-8ff2-48c6-8c17-40695d9a889a    1\n",
            "              caf51b77-da0a-4698-8f95-af10a3c70291    1\n",
            "              df22f564-e9e3-444d-98db-8667f2394cfd    1\n",
            "              e1a3081e-5183-4ee9-9411-24f899b8b533    1\n",
            "              e33c074e-b130-46a9-8970-df75a535d446    1\n",
            "              f952ed26-ed92-4433-9eb9-c3998d33dee2    1\n",
            "MX            67f331fa-70f7-4364-83ae-3283e5bab077    2\n",
            "              033e3012-5b0e-4a93-bf82-1cd14c4e9e66    1\n",
            "              10499137-8201-4130-a51d-1fa4e78c429c    1\n",
            "              1d9f007e-9c4d-428b-a9d6-34c892884afc    1\n",
            "              1ed3a652-8818-4778-a843-03e700238db4    1\n",
            "                                                     ..\n",
            "US            144adb4c-a4f5-4043-9c11-4b217615e8cc    1\n",
            "              223638ef-5947-46af-9f0e-2290fdfab1b7    1\n",
            "              24a23de4-d58b-4e67-aaae-745af7d6ecff    1\n",
            "              287a8354-96a6-45d8-b330-bcccd6b6092b    1\n",
            "              37c0678c-4939-4294-9863-842c60c80986    1\n",
            "              4e529ac7-aae0-4bf8-b9ae-4f0b8bae2759    1\n",
            "              4e623df0-ec69-463c-8398-f1b86ee0300d    1\n",
            "              52ddda06-df7d-4190-8add-eb3f6295afd7    1\n",
            "              5328f9d7-387e-4368-ba8e-414c55c03101    1\n",
            "              5a12ba85-a8ad-463c-bbf1-f87b5b88c888    1\n",
            "              5f8595be-1e0a-436d-adad-9ea763ffb3ed    1\n",
            "              6b1552f6-7847-458b-9164-07894a6f04dc    1\n",
            "              6c126cc6-f658-482e-b9b4-db5f0c405b80    1\n",
            "              7170063b-aeed-4c44-9722-1a4a2c825739    1\n",
            "              76b22907-a458-46e7-8914-5eeb7511e652    1\n",
            "              7df00d0e-f732-4a10-9f69-b86d27a49150    1\n",
            "              98df2c40-6830-4ff0-9d51-4731d02e0ede    1\n",
            "              9ac854d2-07c1-490f-a1e6-5ec1e087edf6    1\n",
            "              a1cb4436-92e1-40ac-87bd-4998a8a49c48    1\n",
            "              ac19d115-f9ce-41c3-841a-1e1f9f6b065d    1\n",
            "              ae3814c2-a465-42d6-9d40-6e5c5ac4a0ca    1\n",
            "              ae7e71b5-a2d5-494f-b63d-422bf51625e0    1\n",
            "              baf02223-b463-49ce-8621-ffeecf01c633    1\n",
            "              bccb6618-de4b-4045-b528-bd665027dafa    1\n",
            "              bef429cd-ef14-4afc-8bac-e2c0c746fac2    1\n",
            "              ca94b160-518c-409e-a33c-a2b3b269d9ef    1\n",
            "              d542bdaf-5a4d-4d14-b650-c43a57f1026a    1\n",
            "              d7c116f2-cf9e-4c28-a350-0f8bdab16de2    1\n",
            "              dce2dd81-81e0-4e05-aa37-256b20945303    1\n",
            "              fdadabea-cd99-4205-8b12-4c53ba420716    1\n",
            "Name: user_id, Length: 88, dtype: int64\n"
          ],
          "name": "stdout"
        }
      ]
    },
    {
      "cell_type": "code",
      "metadata": {
        "id": "DaeLMg9KqPDC",
        "colab_type": "code",
        "colab": {
          "base_uri": "https://localhost:8080/",
          "height": 102
        },
        "outputId": "81a0e010-bdfc-44eb-d445-5915972eed7a"
      },
      "source": [
        "# GroupBy.agg: aplica função para cada coluna de cada grupo.\n",
        "# Neste caso existe um grupo para cada país e apenas uma coluna\n",
        "# por grupo: lat\n",
        "\n",
        "def simple_function(x):\n",
        "    return x.max()\n",
        "\n",
        "print(df_select.groupby('country_code').agg(simple_function))"
      ],
      "execution_count": 36,
      "outputs": [
        {
          "output_type": "stream",
          "text": [
            "                                           user_id        lat\n",
            "country_code                                                 \n",
            "CA            f952ed26-ed92-4433-9eb9-c3998d33dee2  53.585550\n",
            "MX            ff006e0a-3947-4208-8797-e1a8bddec9f1  32.646682\n",
            "US            fdadabea-cd99-4205-8b12-4c53ba420716  41.833393\n"
          ],
          "name": "stdout"
        }
      ]
    },
    {
      "cell_type": "code",
      "metadata": {
        "id": "tAvclXHVqPDE",
        "colab_type": "code",
        "colab": {
          "base_uri": "https://localhost:8080/",
          "height": 289
        },
        "outputId": "56747f32-c5ac-4383-f17a-e12bbe327f91"
      },
      "source": [
        "#Visualizando um agrupamento\n",
        "\n",
        "%matplotlib inline\n",
        "import matplotlib.pyplot as plt\n",
        "plt.show(df_select.groupby('country_code')['user_id'].count().plot.bar())"
      ],
      "execution_count": 37,
      "outputs": [
        {
          "output_type": "display_data",
          "data": {
            "image/png": "[encoded data removed]",
            "text/plain": [
              "<Figure size 432x288 with 1 Axes>"
            ]
          },
          "metadata": {
            "tags": []
          }
        }
      ]
    },
    {
      "cell_type": "markdown",
      "metadata": {
        "id": "Rs-O3YJEqPDF",
        "colab_type": "text"
      },
      "source": [
        "## `Series`\n",
        "### `Series` derivada de um `DataFrame`"
      ]
    },
    {
      "cell_type": "code",
      "metadata": {
        "id": "wwYc-Gy9qPDG",
        "colab_type": "code",
        "colab": {}
      },
      "source": [
        "timestamp_series = df['timestamp']"
      ],
      "execution_count": 0,
      "outputs": []
    },
    {
      "cell_type": "code",
      "metadata": {
        "id": "UALgnuHnqPDJ",
        "colab_type": "code",
        "colab": {
          "base_uri": "https://localhost:8080/",
          "height": 34
        },
        "outputId": "9ddd8ac0-b01e-456a-9693-825b9b9d8d8a"
      },
      "source": [
        "print(type(timestamp_series))"
      ],
      "execution_count": 39,
      "outputs": [
        {
          "output_type": "stream",
          "text": [
            "<class 'pandas.core.series.Series'>\n"
          ],
          "name": "stdout"
        }
      ]
    },
    {
      "cell_type": "code",
      "metadata": {
        "id": "nffIkjwvqPDL",
        "colab_type": "code",
        "colab": {
          "base_uri": "https://localhost:8080/",
          "height": 119
        },
        "outputId": "d7c467c8-35b4-45fb-a4c2-74e773910a39"
      },
      "source": [
        "timestamp_series[0:5]"
      ],
      "execution_count": 40,
      "outputs": [
        {
          "output_type": "execute_result",
          "data": {
            "text/plain": [
              "35    2016-01-05 09:14:00\n",
              "76    2016-01-14 19:44:00\n",
              "79    2016-01-16 09:21:00\n",
              "8     2016-01-23 09:40:00\n",
              "41    2016-01-30 19:19:00\n",
              "Name: timestamp, dtype: object"
            ]
          },
          "metadata": {
            "tags": []
          },
          "execution_count": 40
        }
      ]
    },
    {
      "cell_type": "code",
      "metadata": {
        "id": "gS5FQFGSqPDN",
        "colab_type": "code",
        "colab": {
          "base_uri": "https://localhost:8080/",
          "height": 119
        },
        "outputId": "15a7032a-30b4-4042-ffe8-ccb0faa70343"
      },
      "source": [
        "print(timestamp_series.head())"
      ],
      "execution_count": 41,
      "outputs": [
        {
          "output_type": "stream",
          "text": [
            "35    2016-01-05 09:14:00\n",
            "76    2016-01-14 19:44:00\n",
            "79    2016-01-16 09:21:00\n",
            "8     2016-01-23 09:40:00\n",
            "41    2016-01-30 19:19:00\n",
            "Name: timestamp, dtype: object\n"
          ],
          "name": "stdout"
        }
      ]
    },
    {
      "cell_type": "code",
      "metadata": {
        "id": "KEacxHfIqPDP",
        "colab_type": "code",
        "colab": {
          "base_uri": "https://localhost:8080/",
          "height": 119
        },
        "outputId": "e96570c4-cc43-472f-af1b-4ed01f7c958b"
      },
      "source": [
        "timestamp_series = pd.to_datetime(timestamp_series)\n",
        "print(timestamp_series.tail())"
      ],
      "execution_count": 42,
      "outputs": [
        {
          "output_type": "stream",
          "text": [
            "9    NaT\n",
            "72   NaT\n",
            "73   NaT\n",
            "74   NaT\n",
            "81   NaT\n",
            "Name: timestamp, dtype: datetime64[ns]\n"
          ],
          "name": "stdout"
        }
      ]
    },
    {
      "cell_type": "code",
      "metadata": {
        "id": "ugu_M7V1qPDV",
        "colab_type": "code",
        "colab": {
          "base_uri": "https://localhost:8080/",
          "height": 34
        },
        "outputId": "189df4ab-c25e-4b6c-82d3-942019c4e42b"
      },
      "source": [
        "print(timestamp_series.max())"
      ],
      "execution_count": 43,
      "outputs": [
        {
          "output_type": "stream",
          "text": [
            "2025-10-22 08:55:00\n"
          ],
          "name": "stdout"
        }
      ]
    },
    {
      "cell_type": "code",
      "metadata": {
        "id": "F6NvJUESqPDW",
        "colab_type": "code",
        "colab": {
          "base_uri": "https://localhost:8080/",
          "height": 34
        },
        "outputId": "28f5efb0-a7a2-4e36-fcb6-45c338fa9bb8"
      },
      "source": [
        "print(timestamp_series.min())"
      ],
      "execution_count": 44,
      "outputs": [
        {
          "output_type": "stream",
          "text": [
            "2016-01-05 09:14:00\n"
          ],
          "name": "stdout"
        }
      ]
    },
    {
      "cell_type": "code",
      "metadata": {
        "id": "pk8MFkX-qPDX",
        "colab_type": "code",
        "colab": {
          "base_uri": "https://localhost:8080/",
          "height": 68
        },
        "outputId": "a63b6750-b695-4b22-be68-6227b6b2cfce"
      },
      "source": [
        "print(timestamp_series.nlargest(2))"
      ],
      "execution_count": 45,
      "outputs": [
        {
          "output_type": "stream",
          "text": [
            "53   2025-10-22 08:55:00\n",
            "32   2025-08-23 18:57:00\n",
            "Name: timestamp, dtype: datetime64[ns]\n"
          ],
          "name": "stdout"
        }
      ]
    },
    {
      "cell_type": "code",
      "metadata": {
        "id": "Pt8FAY8OqPDZ",
        "colab_type": "code",
        "colab": {
          "base_uri": "https://localhost:8080/",
          "height": 119
        },
        "outputId": "e42a7ef7-5927-4633-84a4-c576b3a4fc40"
      },
      "source": [
        "timestamp_series = pd.to_datetime(timestamp_series)\n",
        "print(timestamp_series.nlargest())"
      ],
      "execution_count": 46,
      "outputs": [
        {
          "output_type": "stream",
          "text": [
            "53   2025-10-22 08:55:00\n",
            "32   2025-08-23 18:57:00\n",
            "34   2025-05-04 21:38:00\n",
            "92   2024-02-12 21:05:00\n",
            "88   2022-04-02 20:24:00\n",
            "Name: timestamp, dtype: datetime64[ns]\n"
          ],
          "name": "stdout"
        }
      ]
    },
    {
      "cell_type": "code",
      "metadata": {
        "id": "2lylPrRoqPDb",
        "colab_type": "code",
        "colab": {
          "base_uri": "https://localhost:8080/",
          "height": 34
        },
        "outputId": "d16a6fb6-46ba-4b9b-eb22-a18448812ee5"
      },
      "source": [
        "len(timestamp_series)"
      ],
      "execution_count": 47,
      "outputs": [
        {
          "output_type": "execute_result",
          "data": {
            "text/plain": [
              "100"
            ]
          },
          "metadata": {
            "tags": []
          },
          "execution_count": 47
        }
      ]
    },
    {
      "cell_type": "code",
      "metadata": {
        "id": "IUljU1DfqPDd",
        "colab_type": "code",
        "colab": {
          "base_uri": "https://localhost:8080/",
          "height": 34
        },
        "outputId": "81f7b05d-3bf8-4f5a-ac8e-2f2e2f6ce780"
      },
      "source": [
        "len(timestamp_series.drop_duplicates())"
      ],
      "execution_count": 48,
      "outputs": [
        {
          "output_type": "execute_result",
          "data": {
            "text/plain": [
              "96"
            ]
          },
          "metadata": {
            "tags": []
          },
          "execution_count": 48
        }
      ]
    },
    {
      "cell_type": "code",
      "metadata": {
        "id": "2JgAjkGCqPDf",
        "colab_type": "code",
        "colab": {}
      },
      "source": [
        ""
      ],
      "execution_count": 0,
      "outputs": []
    }
  ]
}