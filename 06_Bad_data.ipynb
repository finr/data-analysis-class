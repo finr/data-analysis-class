{
  "nbformat": 4,
  "nbformat_minor": 0,
  "metadata": {
    "kernelspec": {
      "display_name": "Python 3",
      "language": "python",
      "name": "python3"
    },
    "language_info": {
      "codemirror_mode": {
        "name": "ipython",
        "version": 3
      },
      "file_extension": ".py",
      "mimetype": "text/x-python",
      "name": "python",
      "nbconvert_exporter": "python",
      "pygments_lexer": "ipython3",
      "version": "3.7.1"
    },
    "varInspector": {
      "cols": {
        "lenName": 16,
        "lenType": 16,
        "lenVar": 40
      },
      "kernels_config": {
        "python": {
          "delete_cmd_postfix": "",
          "delete_cmd_prefix": "del ",
          "library": "var_list.py",
          "varRefreshCmd": "print(var_dic_list())"
        },
        "r": {
          "delete_cmd_postfix": ") ",
          "delete_cmd_prefix": "rm(",
          "library": "var_list.r",
          "varRefreshCmd": "cat(var_dic_list()) "
        }
      },
      "types_to_exclude": [
        "module",
        "function",
        "builtin_function_or_method",
        "instance",
        "_Feature"
      ],
      "window_display": false
    },
    "colab": {
      "name": "06 - Bad data.ipynb",
      "provenance": [],
      "include_colab_link": true
    }
  },
  "cells": [
    {
      "cell_type": "markdown",
      "metadata": {
        "id": "view-in-github",
        "colab_type": "text"
      },
      "source": [
        "<a href=\"https://colab.research.google.com/github/finr/data-analysis-class/blob/master/06_Bad_data.ipynb\" target=\"_parent\"><img src=\"https://colab.research.google.com/assets/colab-badge.svg\" alt=\"Open In Colab\"/></a>"
      ]
    },
    {
      "cell_type": "markdown",
      "metadata": {
        "id": "W8FLEf45w0N3",
        "colab_type": "text"
      },
      "source": [
        "### Exemplos"
      ]
    },
    {
      "cell_type": "code",
      "metadata": {
        "id": "3p6dyGm_w0N4",
        "colab_type": "code",
        "colab": {}
      },
      "source": [
        "import pandas as pd\n",
        "a = pd.Series([1,2,3,float('NaN'),None])\n",
        "print(a.isnull())"
      ],
      "execution_count": 0,
      "outputs": []
    },
    {
      "cell_type": "code",
      "metadata": {
        "id": "n4kzzk2Fw0N7",
        "colab_type": "code",
        "colab": {}
      },
      "source": [
        "base_dict = {'A':[1,2,float('NaN')], 'B':[float('NaN'),3,4]}\n",
        "b = pd.DataFrame(base_dict)\n",
        "print(b)\n",
        "print(b.isnull())\n",
        "print(b.notnull())\n",
        "print(b.dropna())"
      ],
      "execution_count": 0,
      "outputs": []
    },
    {
      "cell_type": "markdown",
      "metadata": {
        "id": "DtdNpRk6w0N9",
        "colab_type": "text"
      },
      "source": [
        "### Carregamento de dados"
      ]
    },
    {
      "cell_type": "code",
      "metadata": {
        "id": "G2WX1Pgbw0N9",
        "colab_type": "code",
        "colab": {}
      },
      "source": [
        "# Identificação de valores nulos em um DataFrame\n",
        "import pandas as pd\n",
        "from s3fs import S3FileSystem\n",
        "s3 = S3FileSystem(anon=True)\n",
        "\n",
        "details = s3.ls('cesarschool-data-samples/sample01')\n",
        "\n",
        "with s3.open(details[1], 'rb') as f:\n",
        "    df = pd.read_csv(f)"
      ],
      "execution_count": 0,
      "outputs": []
    },
    {
      "cell_type": "markdown",
      "metadata": {
        "id": "yF1eC5Igw0N_",
        "colab_type": "text"
      },
      "source": [
        "### Identificação de valores nulos"
      ]
    },
    {
      "cell_type": "code",
      "metadata": {
        "id": "CafdiGOiw0OA",
        "colab_type": "code",
        "colab": {}
      },
      "source": [
        "# Quantidade total de registros\n",
        "len(df)"
      ],
      "execution_count": 0,
      "outputs": []
    },
    {
      "cell_type": "code",
      "metadata": {
        "id": "eJDnspgRw0OC",
        "colab_type": "code",
        "colab": {}
      },
      "source": [
        "# Quantidade de registros sem \n",
        "# nenhuma coluna nula\n",
        "print(len(df.dropna()))\n",
        "print(len(df))"
      ],
      "execution_count": 0,
      "outputs": []
    },
    {
      "cell_type": "code",
      "metadata": {
        "id": "ZyhKV6RVw0OE",
        "colab_type": "code",
        "colab": {}
      },
      "source": [
        "# Quantidade de country_codes nulos\n",
        "len(df[df['country_code'].isnull()])"
      ],
      "execution_count": 0,
      "outputs": []
    },
    {
      "cell_type": "code",
      "metadata": {
        "id": "iVA3BrTMw0OG",
        "colab_type": "code",
        "colab": {}
      },
      "source": [
        "# Quantidade de country_codes, lat e lng nulos ao mesmo tempo\n",
        "len(df[(df['country_code'].isnull()) & (df['lat'].isnull()) & (df['lng'].isnull())])"
      ],
      "execution_count": 0,
      "outputs": []
    },
    {
      "cell_type": "code",
      "metadata": {
        "id": "xc59W2dSw0OI",
        "colab_type": "code",
        "colab": {}
      },
      "source": [
        "# Quantidade de lat e lng nulos\n",
        "print ((len(df[df['lat'].isnull()]),len(df[df['lng'].isnull()])))\n",
        "\n",
        "# Quantidade de registros com lat nulos e lng não nulos\n",
        "print(len(df[(df['lat'].isnull()) & (df['lng'].isnull())]))"
      ],
      "execution_count": 0,
      "outputs": []
    },
    {
      "cell_type": "code",
      "metadata": {
        "id": "lJvGRdeaw0OJ",
        "colab_type": "code",
        "colab": {}
      },
      "source": [
        "# Quantidade de user_ids nulos\n",
        "print (len(df[df['user_id'].isnull()]))"
      ],
      "execution_count": 0,
      "outputs": []
    },
    {
      "cell_type": "code",
      "metadata": {
        "id": "-eMZPTygw0OL",
        "colab_type": "code",
        "colab": {}
      },
      "source": [
        "# Quantidade de timestamps nulos\n",
        "print (len(df[df['timestamp'].isnull()]))"
      ],
      "execution_count": 0,
      "outputs": []
    },
    {
      "cell_type": "markdown",
      "metadata": {
        "id": "wdBLCnvLw0ON",
        "colab_type": "text"
      },
      "source": [
        "### Identificação de valores anômalos"
      ]
    },
    {
      "cell_type": "code",
      "metadata": {
        "id": "i9EkReRSw0ON",
        "colab_type": "code",
        "colab": {}
      },
      "source": [
        "print(df[['lat','lng']].describe())"
      ],
      "execution_count": 0,
      "outputs": []
    },
    {
      "cell_type": "code",
      "metadata": {
        "id": "KBWHRjN4w0OP",
        "colab_type": "code",
        "colab": {}
      },
      "source": [
        "print(df['country_code'].describe())\n",
        "print(df['country_code'].unique())"
      ],
      "execution_count": 0,
      "outputs": []
    },
    {
      "cell_type": "code",
      "metadata": {
        "id": "Li5Fj1cEw0OR",
        "colab_type": "code",
        "colab": {}
      },
      "source": [
        "print(df[(df['country_code'].isnull()) & \n",
        "         (df['lat'].notnull()) & \n",
        "         (df['lng'].notnull())][['lat','lng']].head())"
      ],
      "execution_count": 0,
      "outputs": []
    },
    {
      "cell_type": "code",
      "metadata": {
        "id": "vHkSqu71w0OT",
        "colab_type": "code",
        "colab": {}
      },
      "source": [
        "import pandas as pd\n",
        "df['timestamp'] = pd.to_datetime(df['timestamp'])\n",
        "print(df['timestamp'].describe())\n",
        "print(df['timestamp'].max())\n",
        "print(df['timestamp'].min())"
      ],
      "execution_count": 0,
      "outputs": []
    },
    {
      "cell_type": "code",
      "metadata": {
        "id": "-Xa2tW-Lw0OU",
        "colab_type": "code",
        "colab": {}
      },
      "source": [
        "print(df.dtypes)"
      ],
      "execution_count": 0,
      "outputs": []
    },
    {
      "cell_type": "code",
      "metadata": {
        "id": "QIL7qUnCw0OW",
        "colab_type": "code",
        "colab": {}
      },
      "source": [
        "df['timestamp_datetime'] = pd.to_datetime(df['timestamp'])"
      ],
      "execution_count": 0,
      "outputs": []
    },
    {
      "cell_type": "code",
      "metadata": {
        "id": "7GrD3Tikw0OY",
        "colab_type": "code",
        "colab": {}
      },
      "source": [
        "print(df['timestamp_datetime'].describe())"
      ],
      "execution_count": 0,
      "outputs": []
    },
    {
      "cell_type": "code",
      "metadata": {
        "id": "hVTw4RlCw0Oa",
        "colab_type": "code",
        "colab": {}
      },
      "source": [
        "import datetime\n",
        "data = datetime.datetime(2017,11,11,12,0,0)\n",
        "print(data)\n",
        "print(data.year)\n",
        "print(data.month)\n",
        "print(data.day)"
      ],
      "execution_count": 0,
      "outputs": []
    },
    {
      "cell_type": "code",
      "metadata": {
        "id": "vi-XNPZgw0Oc",
        "colab_type": "code",
        "colab": {}
      },
      "source": [
        "df['year'] = df['timestamp'].apply(lambda x: x.year)"
      ],
      "execution_count": 0,
      "outputs": []
    },
    {
      "cell_type": "code",
      "metadata": {
        "id": "Q5SHjwbjw0Oe",
        "colab_type": "code",
        "colab": {}
      },
      "source": [
        "df['year'].describe()"
      ],
      "execution_count": 0,
      "outputs": []
    },
    {
      "cell_type": "code",
      "metadata": {
        "id": "dJWc1LDJw0Oh",
        "colab_type": "code",
        "colab": {}
      },
      "source": [
        "print(df[['year','timestamp']].groupby('year').count())"
      ],
      "execution_count": 0,
      "outputs": []
    },
    {
      "cell_type": "code",
      "metadata": {
        "id": "lV69ur54w0Ok",
        "colab_type": "code",
        "colab": {}
      },
      "source": [
        ""
      ],
      "execution_count": 0,
      "outputs": []
    }
  ]
}