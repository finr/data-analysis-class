{
  "nbformat": 4,
  "nbformat_minor": 0,
  "metadata": {
    "colab": {
      "name": "PandasVsDask.ipynb",
      "provenance": [],
      "collapsed_sections": [],
      "include_colab_link": true
    },
    "kernelspec": {
      "display_name": "Anaconda",
      "language": "python",
      "name": "python3"
    }
  },
  "cells": [
    {
      "cell_type": "markdown",
      "metadata": {
        "id": "view-in-github",
        "colab_type": "text"
      },
      "source": [
        "<a href=\"https://colab.research.google.com/github/finr/data-analysis-class/blob/master/PandasVsDask.ipynb\" target=\"_parent\"><img src=\"https://colab.research.google.com/assets/colab-badge.svg\" alt=\"Open In Colab\"/></a>"
      ]
    },
    {
      "cell_type": "code",
      "metadata": {
        "id": "vIoK0Lo7dhCD",
        "colab_type": "code",
        "colab": {}
      },
      "source": [
        "!pip install dask[complete]"
      ],
      "execution_count": 0,
      "outputs": []
    },
    {
      "cell_type": "markdown",
      "metadata": {
        "id": "oC5sK78jolR3",
        "colab_type": "text"
      },
      "source": [
        "### Coleta de dados\n",
        "Cria os dados para a demonstração. Usando as viagens de táxi do mês de janeiro de 2017 da empresa Yellow Taxis de Nova Iorque, cria duas amostras de dados: uma com 1000 viagens e 88KBytes em disco e outra com aproximadamente 87 milhões de viagens e 7,2GBytes em disco.\n",
        "O runtime do Colaboratory tem aproximadamente 12GBytes de memória RAM, o suficiente para que pandas carregue a primeira amostra de dados, mas não a segunda (runtime died)."
      ]
    },
    {
      "cell_type": "code",
      "metadata": {
        "id": "nbluJLLvOsas",
        "colab_type": "code",
        "colab": {}
      },
      "source": [
        "!apt-get install time"
      ],
      "execution_count": 0,
      "outputs": []
    },
    {
      "cell_type": "code",
      "metadata": {
        "id": "dLj3cH97YZhQ",
        "colab_type": "code",
        "colab": {}
      },
      "source": [
        "!wget https://s3.amazonaws.com/nyc-tlc/trip+data/yellow_tripdata_2017-01.csv -O large.csv"
      ],
      "execution_count": 0,
      "outputs": []
    },
    {
      "cell_type": "code",
      "metadata": {
        "id": "eRtUj0oNPJCs",
        "colab_type": "code",
        "colab": {}
      },
      "source": [
        "!time head -n1000 large.csv > small.csv\n",
        "!time tail -n+3 large.csv > sample.csv\n",
        "!time cat large.csv sample.csv sample.csv sample.csv sample.csv sample.csv sample.csv sample.csv sample.csv > very_large.csv"
      ],
      "execution_count": 0,
      "outputs": []
    },
    {
      "cell_type": "code",
      "metadata": {
        "id": "6YwI0QsR6qvK",
        "colab_type": "code",
        "colab": {}
      },
      "source": [
        "!ls -lah"
      ],
      "execution_count": 0,
      "outputs": []
    },
    {
      "cell_type": "markdown",
      "metadata": {
        "id": "5vqnCLUXcimj",
        "colab_type": "text"
      },
      "source": [
        "**Usando os dados da [NYC Taxi and Limousine Commission (TLC)](http://www.nyc.gov/html/tlc/html/about/trip_record_data.shtml) para o mês de janeiro de 2017, calcule a média de distância percorrida por viagem, em milhas, para diferentes quantidades de passageiros.**"
      ]
    },
    {
      "cell_type": "markdown",
      "metadata": {
        "id": "fl30FQmvYKNv",
        "colab_type": "text"
      },
      "source": [
        "### Usando pandas\n",
        "**Limitando a análise a uma amostra de 1000 viagens, o carregamento e os cálculos são feitos.**"
      ]
    },
    {
      "cell_type": "code",
      "metadata": {
        "id": "xsScFoowYKNx",
        "colab_type": "code",
        "colab": {}
      },
      "source": [
        "%%time\n",
        "import pandas as pd\n",
        "df = pd.read_csv('small.csv')\n",
        "\n",
        "#print(df.groupby('passenger_count').trip_distance.mean())"
      ],
      "execution_count": 0,
      "outputs": []
    },
    {
      "cell_type": "code",
      "metadata": {
        "id": "nt2yIPv3emGO",
        "colab_type": "code",
        "colab": {}
      },
      "source": [
        "df.head()"
      ],
      "execution_count": 0,
      "outputs": []
    },
    {
      "cell_type": "code",
      "metadata": {
        "id": "ZKmBEXh7eeh3",
        "colab_type": "code",
        "colab": {}
      },
      "source": [
        "%%time\n",
        "print(df.groupby('passenger_count').trip_distance.mean())"
      ],
      "execution_count": 0,
      "outputs": []
    },
    {
      "cell_type": "markdown",
      "metadata": {
        "id": "jEQc-U94YKN1",
        "colab_type": "text"
      },
      "source": [
        "**Carregando todas as viagens, acontece um erro de memória.**"
      ]
    },
    {
      "cell_type": "code",
      "metadata": {
        "id": "wmbtQhalYKN1",
        "colab_type": "code",
        "colab": {}
      },
      "source": [
        "%%time\n",
        "import pandas as pd\n",
        "df = pd.read_csv('very_large.csv')\n",
        "\n",
        "df.groupby('passenger_count').trip_distance.mean()\n"
      ],
      "execution_count": 0,
      "outputs": []
    },
    {
      "cell_type": "markdown",
      "metadata": {
        "id": "bufF1c3jlab1",
        "colab_type": "text"
      },
      "source": [
        "### **Limitação de pandas** \n",
        "O modelo de execução pressupõe que todos os dados serão carregados na memória ao mesmo tempo e que serão tratados por um único processo. Desse modo a memória RAM local é um limitante para o conjunto de dados que pode ser tratado."
      ]
    },
    {
      "cell_type": "markdown",
      "metadata": {
        "id": "l43CfC4oYKN4",
        "colab_type": "text"
      },
      "source": [
        "### Usando dask\n",
        "**Limitando a análise a uma amostra de 1000 viagens, o carregamento e a análise são feitos**"
      ]
    },
    {
      "cell_type": "code",
      "metadata": {
        "id": "ZeJQwNvzYKN5",
        "colab_type": "code",
        "colab": {}
      },
      "source": [
        "%%time\n",
        "import dask.dataframe as dd\n",
        "df = dd.read_csv('small.csv')\n",
        "print(df.groupby('passenger_count').trip_distance.mean().compute())"
      ],
      "execution_count": 0,
      "outputs": []
    },
    {
      "cell_type": "markdown",
      "metadata": {
        "id": "C9of4G0sYKN7",
        "colab_type": "text"
      },
      "source": [
        "**Para carregar todas as viagens, é preciso usar dois recursos do dask.dataframe:**\n",
        "\n",
        "\n",
        "*   **blocksize:** indica o tamanho em bytes em que o arquivo será dividido durante o processamento, evitando carregar todos os dados ao mesmo tempo;\n",
        "*   **dtype:** dicionário com os tipos de dados do dataframe que está sendo carregado, reduzindo o uso de memória ao não exigir que dask faça inferência sobre os tipos de dados.\n",
        "\n"
      ]
    },
    {
      "cell_type": "code",
      "metadata": {
        "id": "HlsAGzgkYKN8",
        "colab_type": "code",
        "colab": {}
      },
      "source": [
        "%%time\n",
        "# Aprox. 30MBytes\n",
        "bytes_30M = 28 * 1024 * 1024\n",
        "\n",
        "dtype_dictionary = {'VendorID':str, 'tpep_pickup_datetime':str, 'tpep_dropoff_datetime':str,\n",
        "       'passenger_count':int, 'trip_distance':float, 'RatecodeID':int, 'store_and_fwd_flag':str,\n",
        "       'PULocationID':int, 'DOLocationID':int, 'payment_type':int, 'fare_amount':float, 'extra':float,\n",
        "       'mta_tax':float, 'tip_amount':float, 'tolls_amount':float, 'improvement_surcharge':float,\n",
        "       'total_amount':float}\n",
        "\n",
        "\n",
        "import dask.dataframe as dd\n",
        "\n",
        "df = dd.read_csv('very_large.csv', blocksize=bytes_30M, dtype = dtype_dictionary)\n",
        "\n",
        "print(df.groupby('passenger_count').trip_distance.mean().compute())"
      ],
      "execution_count": 0,
      "outputs": []
    },
    {
      "cell_type": "code",
      "metadata": {
        "id": "QT76G7KeYKOB",
        "colab_type": "code",
        "colab": {}
      },
      "source": [
        ""
      ],
      "execution_count": 0,
      "outputs": []
    },
    {
      "cell_type": "code",
      "metadata": {
        "id": "MDct_q76YKOE",
        "colab_type": "code",
        "colab": {}
      },
      "source": [
        ""
      ],
      "execution_count": 0,
      "outputs": []
    }
  ]
}