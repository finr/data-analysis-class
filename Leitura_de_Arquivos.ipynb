{
  "nbformat": 4,
  "nbformat_minor": 0,
  "metadata": {
    "colab": {
      "name": "Leitura de Arquivos.ipynb",
      "provenance": [],
      "include_colab_link": true
    },
    "kernelspec": {
      "name": "python3",
      "display_name": "Python 3"
    }
  },
  "cells": [
    {
      "cell_type": "markdown",
      "metadata": {
        "id": "view-in-github",
        "colab_type": "text"
      },
      "source": [
        "<a href=\"https://colab.research.google.com/github/finr/data-analysis-class/blob/master/Leitura_de_Arquivos.ipynb\" target=\"_parent\"><img src=\"https://colab.research.google.com/assets/colab-badge.svg\" alt=\"Open In Colab\"/></a>"
      ]
    },
    {
      "cell_type": "markdown",
      "metadata": {
        "id": "prWKuu76Bsy9",
        "colab_type": "text"
      },
      "source": [
        "# Leitura de Arquivos"
      ]
    },
    {
      "cell_type": "markdown",
      "metadata": {
        "id": "hqaRFf9GBXsz",
        "colab_type": "text"
      },
      "source": [
        "## Quais os jogadores de tênis com o maior número de vitórias em 2018?\n",
        "## Quais os jogadores de tênis com o maior número de vitórias em 2018 em cada tipo de piso?"
      ]
    },
    {
      "cell_type": "markdown",
      "metadata": {
        "id": "zUXUOXohB7__",
        "colab_type": "text"
      },
      "source": [
        "Vamos usar o dataset sobre partidas de tênis disponível em https://github.com/JeffSackmann/tennis_atp .\n",
        "\n",
        "Primeiramente vamos fazer o download do arquivo `csv` para a máquina local. Em seguida vamos ler os dados do arquivo."
      ]
    },
    {
      "cell_type": "code",
      "metadata": {
        "id": "y8hKlHExB4BJ",
        "colab_type": "code",
        "colab": {}
      },
      "source": [
        "!wget https://raw.githubusercontent.com/JeffSackmann/tennis_atp/master/atp_matches_2018.csv"
      ],
      "execution_count": 0,
      "outputs": []
    },
    {
      "cell_type": "code",
      "metadata": {
        "id": "Ezn11SKpCiMX",
        "colab_type": "code",
        "colab": {}
      },
      "source": [
        "!ls -la\n"
      ],
      "execution_count": 0,
      "outputs": []
    },
    {
      "cell_type": "code",
      "metadata": {
        "id": "9gpoxAA9DE72",
        "colab_type": "code",
        "colab": {}
      },
      "source": [
        "jogos = []\n",
        "\n",
        "with open('atp_matches_2018.csv', 'r') as f:\n",
        "    jogos = f.readlines()\n"
      ],
      "execution_count": 0,
      "outputs": []
    },
    {
      "cell_type": "code",
      "metadata": {
        "id": "wBl3iPYyDOER",
        "colab_type": "code",
        "colab": {}
      },
      "source": [
        "for linha in jogos[0:5]:\n",
        "  print(linha)\n"
      ],
      "execution_count": 0,
      "outputs": []
    },
    {
      "cell_type": "code",
      "metadata": {
        "id": "1J7quKd5J6dm",
        "colab_type": "code",
        "colab": {}
      },
      "source": [
        "header = jogos[0].split(',')\n",
        "\n",
        "saibro = {}\n",
        "grama = {}\n",
        "cimento = {}\n",
        "\n",
        "for i in range(1, len(jogos)):\n",
        "    linha =  jogos[i].split(',')\n",
        "    vencedor = linha[header.index('winner_name')]\n",
        "    superficie = linha[header.index('surface')]\n",
        "    \n",
        "    if superficie == 'Clay':\n",
        "        if vencedor in saibro.keys():\n",
        "            saibro[vencedor] += 1\n",
        "        else:\n",
        "            saibro[vencedor] = 1\n",
        "    elif superficie == 'Grass':\n",
        "        if vencedor in grama.keys():\n",
        "            grama[vencedor] += 1\n",
        "        else:\n",
        "            grama[vencedor] = 1\n",
        "    elif superficie == 'Hard':\n",
        "        if vencedor in cimento.keys():\n",
        "            cimento[vencedor] = cimento[vencedor] + 1\n",
        "        else:\n",
        "            cimento[vencedor] = 1"
      ],
      "execution_count": 0,
      "outputs": []
    },
    {
      "cell_type": "code",
      "metadata": {
        "id": "3AosM4LnKKS2",
        "colab_type": "code",
        "colab": {}
      },
      "source": [
        "print(saibro)\n",
        "print(grama)\n",
        "print(cimento)"
      ],
      "execution_count": 0,
      "outputs": []
    },
    {
      "cell_type": "markdown",
      "metadata": {
        "id": "yRU3VUukKbuY",
        "colab_type": "text"
      },
      "source": [
        "Precisamos verificar o jogador com o maior valor de vitórias."
      ]
    },
    {
      "cell_type": "code",
      "metadata": {
        "id": "DBqQ38YkA1IJ",
        "colab_type": "code",
        "colab": {}
      },
      "source": [
        "def get_key_max_value(dictionary):\n",
        "    #Retorna a chave que contém o maior valor\n",
        "    key_max_value = next(iter(dictionary))\n",
        "    for key in dictionary:\n",
        "        if dictionary[key] > dictionary[key_max_value]:\n",
        "            key_max_value = key\n",
        "    return key_max_value"
      ],
      "execution_count": 0,
      "outputs": []
    },
    {
      "cell_type": "markdown",
      "metadata": {
        "id": "DbZIhNINKsya",
        "colab_type": "text"
      },
      "source": [
        "#### Resultado"
      ]
    },
    {
      "cell_type": "code",
      "metadata": {
        "id": "fWE5bFADKoE7",
        "colab_type": "code",
        "colab": {}
      },
      "source": [
        "print('Jogadores com o maior número de vitórias em 2018:')\n",
        "print('Cimento: ', get_key_max_value(cimento), 'com um total de', cimento[get_key_max_value(cimento)], 'vitórias.')\n",
        "print('Saibro: ', get_key_max_value(saibro), 'com um total de', saibro[get_key_max_value(saibro)], 'vitórias.')\n",
        "print('Grama: ', get_key_max_value(grama), 'com um total de', grama[get_key_max_value(grama)], 'vitórias.')"
      ],
      "execution_count": 0,
      "outputs": []
    },
    {
      "cell_type": "markdown",
      "metadata": {
        "id": "YNAJks3vKaqU",
        "colab_type": "text"
      },
      "source": [
        "Podemos vizualizar o resultado para uma melhor representação..."
      ]
    },
    {
      "cell_type": "code",
      "metadata": {
        "id": "-T5eHXq2LZjM",
        "colab_type": "code",
        "colab": {}
      },
      "source": [
        "import matplotlib.pyplot as plt\n",
        "\n",
        "plt.bar(cimento.keys(), cimento.values())\n",
        "plt.xlabel('Jogadores')\n",
        "plt.ylabel('Vitórias')\n",
        "plt.xticks(rotation=90)\n",
        "plt.title('Jogadores com maior número de vitórias em 2018')\n",
        "plt.show()"
      ],
      "execution_count": 0,
      "outputs": []
    },
    {
      "cell_type": "markdown",
      "metadata": {
        "id": "BHmlq-dlRnxd",
        "colab_type": "text"
      },
      "source": [
        "Um pouco confuso... vamos ordenar o dicionário e retornar apenas os 10 jogadores com mauior número de vitórias..."
      ]
    },
    {
      "cell_type": "code",
      "metadata": {
        "id": "K3PDblacNg_j",
        "colab_type": "code",
        "colab": {}
      },
      "source": [
        "cimento_ordered = dict(sorted(cimento.items(), key=lambda x: x[1], reverse=True))"
      ],
      "execution_count": 0,
      "outputs": []
    },
    {
      "cell_type": "code",
      "metadata": {
        "id": "3W79mGJFVMlh",
        "colab_type": "code",
        "colab": {}
      },
      "source": [
        "plt.bar(list(cimento_ordered.keys())[:10], list(cimento_ordered.values())[:10])\n",
        "plt.xlabel('Jogadores')\n",
        "plt.ylabel('Vitórias')\n",
        "plt.xticks(rotation=90)\n",
        "plt.title('Jogadores com maior número de vitórias em 2018')\n",
        "plt.show()"
      ],
      "execution_count": 0,
      "outputs": []
    },
    {
      "cell_type": "code",
      "metadata": {
        "id": "qlSSZrCGMp_q",
        "colab_type": "code",
        "colab": {}
      },
      "source": [
        ""
      ],
      "execution_count": 0,
      "outputs": []
    }
  ]
}