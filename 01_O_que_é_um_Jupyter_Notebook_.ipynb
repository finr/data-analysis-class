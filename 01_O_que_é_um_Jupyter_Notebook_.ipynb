{
  "nbformat": 4,
  "nbformat_minor": 0,
  "metadata": {
    "colab": {
      "name": "01 - O que é um Jupyter Notebook_.ipynb",
      "provenance": [],
      "include_colab_link": true
    },
    "kernelspec": {
      "display_name": "Python 3",
      "language": "python",
      "name": "python3"
    },
    "language_info": {
      "codemirror_mode": {
        "name": "ipython",
        "version": 3
      },
      "file_extension": ".py",
      "mimetype": "text/x-python",
      "name": "python",
      "nbconvert_exporter": "python",
      "pygments_lexer": "ipython3",
      "version": "3.7.1"
    }
  },
  "cells": [
    {
      "cell_type": "markdown",
      "metadata": {
        "id": "view-in-github",
        "colab_type": "text"
      },
      "source": [
        "<a href=\"https://colab.research.google.com/github/finr/data-analysis-class/blob/master/01_O_que_e%CC%81_um_Jupyter_Notebook_.ipynb\" target=\"_parent\"><img src=\"https://colab.research.google.com/assets/colab-badge.svg\" alt=\"Open In Colab\"/></a>"
      ]
    },
    {
      "cell_type": "markdown",
      "metadata": {
        "colab_type": "text",
        "id": "CAAKlwtRgTBd"
      },
      "source": [
        "# O que é um Jupyter Notebook?"
      ]
    },
    {
      "cell_type": "markdown",
      "metadata": {
        "colab_type": "text",
        "id": "VNuN-jFpgTBe"
      },
      "source": [
        "## Introdução"
      ]
    },
    {
      "cell_type": "markdown",
      "metadata": {
        "colab_type": "text",
        "id": "p0ZZ3G5qgTBf"
      },
      "source": [
        "O Jupyter Notebook é um **ambiente de computação interativo** que permite aos usuários criar documentos que incluem:\n",
        "- Código ao vivo\n",
        "- Widgets interativos\n",
        "- Gráficos\n",
        "- Texto narrativo\n",
        "- Equações\n",
        "- Imagens\n",
        "- Vídeo\n",
        "\n",
        "Esses documentos fornecem um **registro completo e autônomo de uma computação** que pode ser convertido em vários formatos e compartilhado com outros usando email, sistemas de controle de versão (como git /[GitHub](http://github.com)) ou [nbviewer.ipython.org] (http://nbviewer.ipython.org)."
      ]
    },
    {
      "cell_type": "markdown",
      "metadata": {
        "colab_type": "text",
        "id": "7TE7Mw7SgTBg"
      },
      "source": [
        "### Componentes"
      ]
    },
    {
      "cell_type": "markdown",
      "metadata": {
        "colab_type": "text",
        "id": "nPGEO8qggTBg"
      },
      "source": [
        "O IPython Notebook combina três componentes:\n",
        "\n",
        "* **O aplicativo da Web do notebook**: um aplicativo web interativo para desenvolver e executar o código de forma interativa e criar notebooks.\n",
        "* **Kernels**: processos separados iniciados pelo aplicativo da Web do notebook que executa o código dos usuários em uma determinada linguagem e retorna a saída ao aplicativo da Web do notebook. O kernel também lida com coisas como computações para widgets interativos e preenchimento de tabulações e introspecção.\n",
        "* **Documentos de notebook**: documentos autônomos que contêm uma representação de todo o conteúdo visível no aplicativo da web do notebook, incluindo entradas e saídas dos cálculos, narrativa\n",
        "texto, equações, imagens e representações em rich media de objetos. Cada documento do notebook possui seu próprio kernel."
      ]
    },
    {
      "cell_type": "markdown",
      "metadata": {
        "colab_type": "text",
        "id": "DOaOU_KBgTBh"
      },
      "source": [
        "## Notebook web application"
      ]
    },
    {
      "cell_type": "markdown",
      "metadata": {
        "colab_type": "text",
        "id": "GZE9vOT5gTBh"
      },
      "source": [
        "O aplicativo da Web do notebook permite aos usuários:\n",
        "\n",
        "* **Edite o código no navegador**, com destaque da sintaxe automática, indentação e conclusão / introspecção da guia.\n",
        "* **Execute o código do navegador**, com os resultados dos cálculos anexados ao código que os gerou.\n",
        "* Veja os resultados de cálculos com **representações de rich media**, como HTML, LaTeX, PNG, SVG, PDF, etc.\n",
        "* Crie e use **widgets de JavaScript interativos**, que vinculam controles de interface de usuário interativos e visualizações a cálculos reativos do lado do kernel.\n",
        "* Autor **texto narrativo** usando o [Markdown] (https://daringfireball.net/projects/markdown/) linguagem de marcação.\n",
        "* Construa **documentos hierárquicos** organizados em seções com diferentes níveis de cabeçalho.\n",
        "* Inclua equações matemáticas usando **Sintaxe LaTeX no Markdown**, que são renderizadas no navegador por [MathJax] (http://www.mathjax.org/).\n",
        "* Comece **computação paralela** clusters que trabalham com as bibliotecas de computação paralela interativas do IPython `IPython.parallel`."
      ]
    },
    {
      "cell_type": "markdown",
      "metadata": {
        "colab_type": "text",
        "id": "Ziw84jxegTBi"
      },
      "source": [
        "## Kernels"
      ]
    },
    {
      "cell_type": "markdown",
      "metadata": {
        "colab_type": "text",
        "id": "C7NBwthOgTBj"
      },
      "source": [
        "Através do kernel e da arquitetura de mensagens do IPython, o Notebook permite que o código seja executado em uma variedade de diferentes linguagens de programação. Para cada documento de notebook que um usuário abre, o aplicativo da Web inicia um kernel que executa o código desse notebook. Cada kernel é capaz de executar o código em um única linguagem de programação e existem kernels disponíveis nas seguintes linguagens:\n",
        "\n",
        "* Python (https://github.com/ipython/ipython)\n",
        "* Julia (https://github.com/JuliaLang/IJulia.jl)\n",
        "* R (https://github.com/takluyver/IRkernel)\n",
        "* Ruby (https://github.com/minrk/iruby)\n",
        "* Haskell (https://github.com/gibiansky/IHaskell)\n",
        "* Scala (https://github.com/Bridgewater/scala-notebook)\n",
        "* node.js (https://gist.github.com/Carreau/4279371)\n",
        "* Ir (https://github.com/takluyver/igo)\n",
        "\n",
        "O kernel padrão executa o código Python. O IPython 3.0 fornece uma maneira simples para os usuários escolher quais desses kernels são usados ​​para um determinado notebook.\n",
        "\n",
        "Cada um destes kernels se comunica com o aplicativo da Web e o navegador da Web usando um protocolo de mensagem JSON sobre ZeroMQ / WebSockets que é descrito [aqui] (http://ipython.org/ipython-doc/dev/development/messaging.html). A maioria dos usuários não precisa saber sobre esses detalhes, mas ajuda a entender que os \"kernels executam código\"."
      ]
    },
    {
      "cell_type": "markdown",
      "metadata": {
        "colab_type": "text",
        "id": "nEdd8DLugTBj"
      },
      "source": [
        "## Documentos do notebook "
      ]
    },
    {
      "cell_type": "markdown",
      "metadata": {
        "colab_type": "text",
        "id": "gkt55xZKgTBk"
      },
      "source": [
        "Os documentos do notebook contêm as **entradas e saídas** de uma sessão interativa, bem como **texto narrativo** que acompanha o código, mas não é próprio para execução. **O resultado rico** gerado pelo código em execução, incluindo HTML, imagens, vídeo e gráficos, está inserido no notebook, o que o torna um registro completo e autônomo de uma computação."
      ]
    },
    {
      "cell_type": "markdown",
      "metadata": {
        "colab_type": "text",
        "id": "5p8VkZPegTBl"
      },
      "source": [
        "Quando você executa o aplicativo da Web do notebook em seu computador, os documentos do notebook são apenas **arquivos no seu sistema de arquivos local com uma extensão `.ipynb`**. Isso permite que você use fluxos de trabalho familiares para organizar seus notebooks em pastas e compartilhá-las com outras pessoas."
      ]
    },
    {
      "cell_type": "markdown",
      "metadata": {
        "colab_type": "text",
        "id": "fr2VfRQAgTBm"
      },
      "source": [
        "Os notebooks consistem em uma **sequência linear de células**. Existem quatro tipos básicos de células:\n",
        "\n",
        "* **Células de código:** Entrada e saída de código ao vivo que é executado no kernel\n",
        "* **Células Markdown:** Texto narrativo com equações LaTeX incorporadas\n",
        "* **Cabeçalho de células:** 6 níveis de organização hierárquica e formatação\n",
        "* **Células Raw:** Texto não formatado incluído, sem modificação, quando os notebooks são convertidos em diferentes formatos usando nbconvert\n",
        "\n",
        "Internamente, os documentos do notebook são **[JSON] (http://en.wikipedia.org/wiki/JSON) dados** com **valores binários [base64] (http://en.wikipedia.org/wiki/Base64 )** codificado. Isso permite que eles sejam **lidos e manipulados programaticamente** por qualquer linguagem de programação. Como o JSON é um formato de texto, os documentos do notebook são compatíveis com o controle de versão.\n",
        "\n",
        "**Notebooks podem ser exportados** para diferentes formatos estáticos, incluindo HTML, reStructeredText, LaTeX, PDF e apresentações de slides ([revel.js] (http://lab.hakim.se/reveal-js/#/)) usando O utilitário 'nbconvert` do Jupyter.\n",
        "\n",
        "Além disso, qualquer documento de notebook disponível a partir de um **URL público ou GitHub pode ser compartilhado** via [nbviewer] (http://nbviewer.ipython.org). Este serviço carrega o documento do notebook a partir do URL e o torna como uma página web estática. A página web resultante pode, portanto, ser compartilhada com outros **sem a necessidade de instalar o Jupyter**."
      ]
    },
    {
      "cell_type": "markdown",
      "metadata": {
        "colab_type": "text",
        "id": "Z48HrJfLgTBm"
      },
      "source": [
        "###### Documentação completa: www.jupyter.org "
      ]
    },
    {
      "cell_type": "code",
      "metadata": {
        "colab_type": "code",
        "id": "vU0ogHtegTBn",
        "colab": {}
      },
      "source": [
        ""
      ],
      "execution_count": 0,
      "outputs": []
    }
  ]
}