{
  "nbformat": 4,
  "nbformat_minor": 0,
  "metadata": {
    "colab": {
      "name": "Movies.ipynb",
      "provenance": [],
      "collapsed_sections": [],
      "include_colab_link": true
    },
    "kernelspec": {
      "name": "python3",
      "display_name": "Python 3"
    }
  },
  "cells": [
    {
      "cell_type": "markdown",
      "metadata": {
        "id": "view-in-github",
        "colab_type": "text"
      },
      "source": [
        "<a href=\"https://colab.research.google.com/github/finr/data-analysis-class/blob/master/Movies.ipynb\" target=\"_parent\"><img src=\"https://colab.research.google.com/assets/colab-badge.svg\" alt=\"Open In Colab\"/></a>"
      ]
    },
    {
      "cell_type": "markdown",
      "metadata": {
        "id": "5jdmXqb294za",
        "colab_type": "text"
      },
      "source": [
        "## Movie Lens Data Analysis\n",
        "\n",
        "Análise sobre dados de filmes e suas avaliações.\n",
        "Dataset disponível em: https://grouplens.org/datasets/movielens/\n",
        "\n",
        "Carregaremos dois arquivos... o primeiro referente às avaliaçãoes e o segundo referente aos detalhes dos filmes.\n",
        "\n",
        "Os dois arquivos foram armazenados no nosso datalake e serão carregados a partir dele."
      ]
    },
    {
      "cell_type": "code",
      "metadata": {
        "id": "XnWbCMai94dH",
        "colab_type": "code",
        "colab": {
          "base_uri": "https://localhost:8080/",
          "height": 207
        },
        "outputId": "179f1397-6fbc-4e84-8a7a-97318943fd78"
      },
      "source": [
        "!pip install s3fs"
      ],
      "execution_count": 1,
      "outputs": [
        {
          "output_type": "stream",
          "text": [
            "Requirement already satisfied: s3fs in /usr/local/lib/python3.6/dist-packages (0.3.4)\n",
            "Requirement already satisfied: botocore>=1.12.91 in /usr/local/lib/python3.6/dist-packages (from s3fs) (1.12.243)\n",
            "Requirement already satisfied: boto3>=1.9.91 in /usr/local/lib/python3.6/dist-packages (from s3fs) (1.9.243)\n",
            "Requirement already satisfied: fsspec>=0.2.2 in /usr/local/lib/python3.6/dist-packages (from s3fs) (0.5.1)\n",
            "Requirement already satisfied: python-dateutil<3.0.0,>=2.1; python_version >= \"2.7\" in /usr/local/lib/python3.6/dist-packages (from botocore>=1.12.91->s3fs) (2.5.3)\n",
            "Requirement already satisfied: docutils<0.16,>=0.10 in /usr/local/lib/python3.6/dist-packages (from botocore>=1.12.91->s3fs) (0.15.2)\n",
            "Requirement already satisfied: urllib3<1.26,>=1.20; python_version >= \"3.4\" in /usr/local/lib/python3.6/dist-packages (from botocore>=1.12.91->s3fs) (1.24.3)\n",
            "Requirement already satisfied: jmespath<1.0.0,>=0.7.1 in /usr/local/lib/python3.6/dist-packages (from botocore>=1.12.91->s3fs) (0.9.4)\n",
            "Requirement already satisfied: s3transfer<0.3.0,>=0.2.0 in /usr/local/lib/python3.6/dist-packages (from boto3>=1.9.91->s3fs) (0.2.1)\n",
            "Requirement already satisfied: six>=1.5 in /usr/local/lib/python3.6/dist-packages (from python-dateutil<3.0.0,>=2.1; python_version >= \"2.7\"->botocore>=1.12.91->s3fs) (1.12.0)\n"
          ],
          "name": "stdout"
        }
      ]
    },
    {
      "cell_type": "code",
      "metadata": {
        "id": "ABiwlL6792EF",
        "colab_type": "code",
        "colab": {
          "base_uri": "https://localhost:8080/",
          "height": 34
        },
        "outputId": "e828d864-f136-4042-a86f-62c1fec09360"
      },
      "source": [
        "import pandas as pd\n",
        "from s3fs import S3FileSystem\n",
        "\n",
        "s3 = S3FileSystem(anon=True)\n",
        "\n",
        "details = s3.ls('cesarschool-data-samples/ml-latest/')\n",
        "print(details)"
      ],
      "execution_count": 2,
      "outputs": [
        {
          "output_type": "stream",
          "text": [
            "['cesarschool-data-samples/ml-latest/', 'cesarschool-data-samples/ml-latest/movies.csv', 'cesarschool-data-samples/ml-latest/ratings.csv']\n"
          ],
          "name": "stdout"
        }
      ]
    },
    {
      "cell_type": "code",
      "metadata": {
        "id": "hjQdGPVE_Yta",
        "colab_type": "code",
        "colab": {
          "base_uri": "https://localhost:8080/",
          "height": 51
        },
        "outputId": "bf4cb817-9759-4bd8-baa3-50464fcefaf1"
      },
      "source": [
        "%%time\n",
        "with s3.open('cesarschool-data-samples/ml-latest/movies.csv', 'rb') as f:\n",
        "    movies_df = pd.read_csv(f)\n",
        "\n",
        "with s3.open('cesarschool-data-samples/ml-latest/ratings.csv', 'rb') as f:\n",
        "    ratings_df = pd.read_csv(f)"
      ],
      "execution_count": 3,
      "outputs": [
        {
          "output_type": "stream",
          "text": [
            "CPU times: user 12.6 s, sys: 3.61 s, total: 16.2 s\n",
            "Wall time: 40.8 s\n"
          ],
          "name": "stdout"
        }
      ]
    },
    {
      "cell_type": "code",
      "metadata": {
        "id": "tz5WkVITAha1",
        "colab_type": "code",
        "colab": {
          "base_uri": "https://localhost:8080/",
          "height": 204
        },
        "outputId": "ee9f8670-faca-452b-bef3-a3e67d726724"
      },
      "source": [
        "ratings_df.head()"
      ],
      "execution_count": 4,
      "outputs": [
        {
          "output_type": "execute_result",
          "data": {
            "text/html": [
              "<div>\n",
              "<style scoped>\n",
              "    .dataframe tbody tr th:only-of-type {\n",
              "        vertical-align: middle;\n",
              "    }\n",
              "\n",
              "    .dataframe tbody tr th {\n",
              "        vertical-align: top;\n",
              "    }\n",
              "\n",
              "    .dataframe thead th {\n",
              "        text-align: right;\n",
              "    }\n",
              "</style>\n",
              "<table border=\"1\" class=\"dataframe\">\n",
              "  <thead>\n",
              "    <tr style=\"text-align: right;\">\n",
              "      <th></th>\n",
              "      <th>userId</th>\n",
              "      <th>movieId</th>\n",
              "      <th>rating</th>\n",
              "      <th>timestamp</th>\n",
              "    </tr>\n",
              "  </thead>\n",
              "  <tbody>\n",
              "    <tr>\n",
              "      <th>0</th>\n",
              "      <td>1</td>\n",
              "      <td>307</td>\n",
              "      <td>3.5</td>\n",
              "      <td>1256677221</td>\n",
              "    </tr>\n",
              "    <tr>\n",
              "      <th>1</th>\n",
              "      <td>1</td>\n",
              "      <td>481</td>\n",
              "      <td>3.5</td>\n",
              "      <td>1256677456</td>\n",
              "    </tr>\n",
              "    <tr>\n",
              "      <th>2</th>\n",
              "      <td>1</td>\n",
              "      <td>1091</td>\n",
              "      <td>1.5</td>\n",
              "      <td>1256677471</td>\n",
              "    </tr>\n",
              "    <tr>\n",
              "      <th>3</th>\n",
              "      <td>1</td>\n",
              "      <td>1257</td>\n",
              "      <td>4.5</td>\n",
              "      <td>1256677460</td>\n",
              "    </tr>\n",
              "    <tr>\n",
              "      <th>4</th>\n",
              "      <td>1</td>\n",
              "      <td>1449</td>\n",
              "      <td>4.5</td>\n",
              "      <td>1256677264</td>\n",
              "    </tr>\n",
              "  </tbody>\n",
              "</table>\n",
              "</div>"
            ],
            "text/plain": [
              "   userId  movieId  rating   timestamp\n",
              "0       1      307     3.5  1256677221\n",
              "1       1      481     3.5  1256677456\n",
              "2       1     1091     1.5  1256677471\n",
              "3       1     1257     4.5  1256677460\n",
              "4       1     1449     4.5  1256677264"
            ]
          },
          "metadata": {
            "tags": []
          },
          "execution_count": 4
        }
      ]
    },
    {
      "cell_type": "code",
      "metadata": {
        "id": "r1WpALlJKS5F",
        "colab_type": "code",
        "colab": {
          "base_uri": "https://localhost:8080/",
          "height": 204
        },
        "outputId": "fa2fe9aa-ac06-473f-811a-46cf701f03a5"
      },
      "source": [
        "movies_df.head()"
      ],
      "execution_count": 5,
      "outputs": [
        {
          "output_type": "execute_result",
          "data": {
            "text/html": [
              "<div>\n",
              "<style scoped>\n",
              "    .dataframe tbody tr th:only-of-type {\n",
              "        vertical-align: middle;\n",
              "    }\n",
              "\n",
              "    .dataframe tbody tr th {\n",
              "        vertical-align: top;\n",
              "    }\n",
              "\n",
              "    .dataframe thead th {\n",
              "        text-align: right;\n",
              "    }\n",
              "</style>\n",
              "<table border=\"1\" class=\"dataframe\">\n",
              "  <thead>\n",
              "    <tr style=\"text-align: right;\">\n",
              "      <th></th>\n",
              "      <th>movieId</th>\n",
              "      <th>title</th>\n",
              "      <th>genres</th>\n",
              "    </tr>\n",
              "  </thead>\n",
              "  <tbody>\n",
              "    <tr>\n",
              "      <th>0</th>\n",
              "      <td>1</td>\n",
              "      <td>Toy Story (1995)</td>\n",
              "      <td>Adventure|Animation|Children|Comedy|Fantasy</td>\n",
              "    </tr>\n",
              "    <tr>\n",
              "      <th>1</th>\n",
              "      <td>2</td>\n",
              "      <td>Jumanji (1995)</td>\n",
              "      <td>Adventure|Children|Fantasy</td>\n",
              "    </tr>\n",
              "    <tr>\n",
              "      <th>2</th>\n",
              "      <td>3</td>\n",
              "      <td>Grumpier Old Men (1995)</td>\n",
              "      <td>Comedy|Romance</td>\n",
              "    </tr>\n",
              "    <tr>\n",
              "      <th>3</th>\n",
              "      <td>4</td>\n",
              "      <td>Waiting to Exhale (1995)</td>\n",
              "      <td>Comedy|Drama|Romance</td>\n",
              "    </tr>\n",
              "    <tr>\n",
              "      <th>4</th>\n",
              "      <td>5</td>\n",
              "      <td>Father of the Bride Part II (1995)</td>\n",
              "      <td>Comedy</td>\n",
              "    </tr>\n",
              "  </tbody>\n",
              "</table>\n",
              "</div>"
            ],
            "text/plain": [
              "   movieId  ...                                       genres\n",
              "0        1  ...  Adventure|Animation|Children|Comedy|Fantasy\n",
              "1        2  ...                   Adventure|Children|Fantasy\n",
              "2        3  ...                               Comedy|Romance\n",
              "3        4  ...                         Comedy|Drama|Romance\n",
              "4        5  ...                                       Comedy\n",
              "\n",
              "[5 rows x 3 columns]"
            ]
          },
          "metadata": {
            "tags": []
          },
          "execution_count": 5
        }
      ]
    },
    {
      "cell_type": "markdown",
      "metadata": {
        "id": "KbSXMMKSnHrZ",
        "colab_type": "text"
      },
      "source": [
        "#### Qual o filme mais popular (com maior número de avaliações)?\n",
        "#### Qual o usuário mais ativo (que efetuou maior número de avaliações)?"
      ]
    },
    {
      "cell_type": "code",
      "metadata": {
        "id": "nMet7c1yAzOA",
        "colab_type": "code",
        "colab": {}
      },
      "source": [
        "df_ratings_group = ratings_df.groupby('movieId')"
      ],
      "execution_count": 0,
      "outputs": []
    },
    {
      "cell_type": "code",
      "metadata": {
        "id": "3CzHfQlknFpj",
        "colab_type": "code",
        "colab": {
          "base_uri": "https://localhost:8080/",
          "height": 221
        },
        "outputId": "f72aae8d-cc94-49a2-838b-5ce2f0dbcd7d"
      },
      "source": [
        "df_ratings_group['rating'].count().sort_values(ascending=False)[:10] # Os 10 filmes com o maior número de avaliações"
      ],
      "execution_count": 7,
      "outputs": [
        {
          "output_type": "execute_result",
          "data": {
            "text/plain": [
              "movieId\n",
              "318     97999\n",
              "356     97040\n",
              "296     92406\n",
              "593     87899\n",
              "2571    84545\n",
              "260     81815\n",
              "480     76451\n",
              "527     71516\n",
              "110     68803\n",
              "1       68469\n",
              "Name: rating, dtype: int64"
            ]
          },
          "metadata": {
            "tags": []
          },
          "execution_count": 7
        }
      ]
    },
    {
      "cell_type": "code",
      "metadata": {
        "id": "Ns9WuRiuo4ju",
        "colab_type": "code",
        "colab": {
          "base_uri": "https://localhost:8080/",
          "height": 221
        },
        "outputId": "daae3881-c2f7-453c-fdda-6048c9e9b14c"
      },
      "source": [
        "df_ratings_group_user = ratings_df.groupby('userId')\n",
        "df_ratings_group_user['rating'].count().sort_values(ascending=False)[:10] # Os 10 usuários com o maior número de avaliações"
      ],
      "execution_count": 8,
      "outputs": [
        {
          "output_type": "execute_result",
          "data": {
            "text/plain": [
              "userId\n",
              "123100    23715\n",
              "117490     9279\n",
              "134596     8381\n",
              "212343     7884\n",
              "242683     7515\n",
              "111908     6645\n",
              "77609      6398\n",
              "63783      6346\n",
              "172357     5868\n",
              "141955     5810\n",
              "Name: rating, dtype: int64"
            ]
          },
          "metadata": {
            "tags": []
          },
          "execution_count": 8
        }
      ]
    },
    {
      "cell_type": "markdown",
      "metadata": {
        "id": "8iEKSPZSqsOf",
        "colab_type": "text"
      },
      "source": [
        "#### Quais os nomes dos filmes com o mais populares?"
      ]
    },
    {
      "cell_type": "markdown",
      "metadata": {
        "id": "qbYNo5NGq10Y",
        "colab_type": "text"
      },
      "source": [
        "Precisaremos unir os dataframes de ratings e movies pelo *movieId*"
      ]
    },
    {
      "cell_type": "code",
      "metadata": {
        "id": "6yVPaTnMqpBT",
        "colab_type": "code",
        "colab": {}
      },
      "source": [
        "df_movies_ratings = pd.merge(ratings_df, movies_df, on='movieId', how='inner')"
      ],
      "execution_count": 0,
      "outputs": []
    },
    {
      "cell_type": "code",
      "metadata": {
        "id": "u-UWF4RNrrVP",
        "colab_type": "code",
        "colab": {
          "base_uri": "https://localhost:8080/",
          "height": 204
        },
        "outputId": "af30db05-fcd1-4b65-ced3-380b1f730250"
      },
      "source": [
        "df_movies_ratings.head()"
      ],
      "execution_count": 10,
      "outputs": [
        {
          "output_type": "execute_result",
          "data": {
            "text/html": [
              "<div>\n",
              "<style scoped>\n",
              "    .dataframe tbody tr th:only-of-type {\n",
              "        vertical-align: middle;\n",
              "    }\n",
              "\n",
              "    .dataframe tbody tr th {\n",
              "        vertical-align: top;\n",
              "    }\n",
              "\n",
              "    .dataframe thead th {\n",
              "        text-align: right;\n",
              "    }\n",
              "</style>\n",
              "<table border=\"1\" class=\"dataframe\">\n",
              "  <thead>\n",
              "    <tr style=\"text-align: right;\">\n",
              "      <th></th>\n",
              "      <th>userId</th>\n",
              "      <th>movieId</th>\n",
              "      <th>rating</th>\n",
              "      <th>timestamp</th>\n",
              "      <th>title</th>\n",
              "      <th>genres</th>\n",
              "    </tr>\n",
              "  </thead>\n",
              "  <tbody>\n",
              "    <tr>\n",
              "      <th>0</th>\n",
              "      <td>1</td>\n",
              "      <td>307</td>\n",
              "      <td>3.5</td>\n",
              "      <td>1256677221</td>\n",
              "      <td>Three Colors: Blue (Trois couleurs: Bleu) (1993)</td>\n",
              "      <td>Drama</td>\n",
              "    </tr>\n",
              "    <tr>\n",
              "      <th>1</th>\n",
              "      <td>6</td>\n",
              "      <td>307</td>\n",
              "      <td>4.0</td>\n",
              "      <td>832059248</td>\n",
              "      <td>Three Colors: Blue (Trois couleurs: Bleu) (1993)</td>\n",
              "      <td>Drama</td>\n",
              "    </tr>\n",
              "    <tr>\n",
              "      <th>2</th>\n",
              "      <td>56</td>\n",
              "      <td>307</td>\n",
              "      <td>4.0</td>\n",
              "      <td>1383625728</td>\n",
              "      <td>Three Colors: Blue (Trois couleurs: Bleu) (1993)</td>\n",
              "      <td>Drama</td>\n",
              "    </tr>\n",
              "    <tr>\n",
              "      <th>3</th>\n",
              "      <td>71</td>\n",
              "      <td>307</td>\n",
              "      <td>5.0</td>\n",
              "      <td>1257795414</td>\n",
              "      <td>Three Colors: Blue (Trois couleurs: Bleu) (1993)</td>\n",
              "      <td>Drama</td>\n",
              "    </tr>\n",
              "    <tr>\n",
              "      <th>4</th>\n",
              "      <td>84</td>\n",
              "      <td>307</td>\n",
              "      <td>3.0</td>\n",
              "      <td>999055519</td>\n",
              "      <td>Three Colors: Blue (Trois couleurs: Bleu) (1993)</td>\n",
              "      <td>Drama</td>\n",
              "    </tr>\n",
              "  </tbody>\n",
              "</table>\n",
              "</div>"
            ],
            "text/plain": [
              "   userId  movieId  ...                                             title  genres\n",
              "0       1      307  ...  Three Colors: Blue (Trois couleurs: Bleu) (1993)   Drama\n",
              "1       6      307  ...  Three Colors: Blue (Trois couleurs: Bleu) (1993)   Drama\n",
              "2      56      307  ...  Three Colors: Blue (Trois couleurs: Bleu) (1993)   Drama\n",
              "3      71      307  ...  Three Colors: Blue (Trois couleurs: Bleu) (1993)   Drama\n",
              "4      84      307  ...  Three Colors: Blue (Trois couleurs: Bleu) (1993)   Drama\n",
              "\n",
              "[5 rows x 6 columns]"
            ]
          },
          "metadata": {
            "tags": []
          },
          "execution_count": 10
        }
      ]
    },
    {
      "cell_type": "code",
      "metadata": {
        "id": "CteIF_VArvHK",
        "colab_type": "code",
        "colab": {}
      },
      "source": [
        "df_movies_ratings_group = df_movies_ratings.groupby('title')"
      ],
      "execution_count": 0,
      "outputs": []
    },
    {
      "cell_type": "code",
      "metadata": {
        "id": "A8DVdrE8r-9Z",
        "colab_type": "code",
        "colab": {
          "base_uri": "https://localhost:8080/",
          "height": 221
        },
        "outputId": "102e36df-2fbc-463f-b09b-71c93276e159"
      },
      "source": [
        "df_movies_ratings_group['rating'].count().sort_values(ascending=False)[:10] # Os nomes dos 10 filmes mais populares"
      ],
      "execution_count": 12,
      "outputs": [
        {
          "output_type": "execute_result",
          "data": {
            "text/plain": [
              "title\n",
              "Shawshank Redemption, The (1994)             97999\n",
              "Forrest Gump (1994)                          97040\n",
              "Pulp Fiction (1994)                          92406\n",
              "Silence of the Lambs, The (1991)             87899\n",
              "Matrix, The (1999)                           84545\n",
              "Star Wars: Episode IV - A New Hope (1977)    81815\n",
              "Jurassic Park (1993)                         76451\n",
              "Schindler's List (1993)                      71516\n",
              "Braveheart (1995)                            68803\n",
              "Toy Story (1995)                             68469\n",
              "Name: rating, dtype: int64"
            ]
          },
          "metadata": {
            "tags": []
          },
          "execution_count": 12
        }
      ]
    },
    {
      "cell_type": "code",
      "metadata": {
        "id": "SiiibZA6sQNy",
        "colab_type": "code",
        "colab": {
          "base_uri": "https://localhost:8080/",
          "height": 269
        },
        "outputId": "aacb5675-f41f-4fb9-f4b7-150307325331"
      },
      "source": [
        "import matplotlib.pyplot as plt\n",
        "plt.show(df_movies_ratings_group['rating'].count().sort_values(ascending=False)[:10].plot(kind='barh').invert_yaxis())"
      ],
      "execution_count": 16,
      "outputs": [
        {
          "output_type": "display_data",
          "data": {
            "image/png": "[encoded data removed]",
            "text/plain": [
              "<Figure size 432x288 with 1 Axes>"
            ]
          },
          "metadata": {
            "tags": []
          }
        }
      ]
    },
    {
      "cell_type": "markdown",
      "metadata": {
        "id": "xwlkKQsFJcR0",
        "colab_type": "text"
      },
      "source": [
        "#### Quais os filmes com as maiores médias de avaliações?"
      ]
    },
    {
      "cell_type": "code",
      "metadata": {
        "id": "wYno9fF3sbkU",
        "colab_type": "code",
        "colab": {
          "base_uri": "https://localhost:8080/",
          "height": 221
        },
        "outputId": "8c41c98a-2fdc-48c6-dec6-b2436d69e8f0"
      },
      "source": [
        "df_movies_ratings_group['rating'].mean().sort_values(ascending=False)[:10]"
      ],
      "execution_count": 17,
      "outputs": [
        {
          "output_type": "execute_result",
          "data": {
            "text/plain": [
              "title\n",
              "Faintheart (2008)                       5.0\n",
              "White Tiger (1996)                      5.0\n",
              "Radio Unnameable (2012)                 5.0\n",
              "Rafter Romance (1933)                   5.0\n",
              "Who Killed Chea Vichea? (2010)          5.0\n",
              "Gesuzza, La Sposa Garibaldina (1934)    5.0\n",
              "Ram Dass: Fierce Grace (2001)           5.0\n",
              "Ramen Shop (2018)                       5.0\n",
              "Ramona (1936)                           5.0\n",
              "Absolutely Fabulous (2001)              5.0\n",
              "Name: rating, dtype: float64"
            ]
          },
          "metadata": {
            "tags": []
          },
          "execution_count": 17
        }
      ]
    },
    {
      "cell_type": "markdown",
      "metadata": {
        "id": "w9wMlBqxL9AY",
        "colab_type": "text"
      },
      "source": [
        "Precisamos filtrar pelo número de avaliações para evitar que filmes com poucas avaliações entrem na média. Seria interessante definir um número mínimo de avaliações para extrair a média de um filme (ex: 1000 avaliações)."
      ]
    },
    {
      "cell_type": "code",
      "metadata": {
        "id": "BsZaLVTuL5rA",
        "colab_type": "code",
        "colab": {}
      },
      "source": [
        "df_movies_mean_count = df_movies_ratings_group['rating'].agg(['mean', 'count'])"
      ],
      "execution_count": 0,
      "outputs": []
    },
    {
      "cell_type": "code",
      "metadata": {
        "id": "KlFQ_XBWNmwz",
        "colab_type": "code",
        "colab": {
          "base_uri": "https://localhost:8080/",
          "height": 390
        },
        "outputId": "174267b0-0057-4932-8828-400ee3574c33"
      },
      "source": [
        "df_movies_mean_count.head(10)"
      ],
      "execution_count": 28,
      "outputs": [
        {
          "output_type": "execute_result",
          "data": {
            "text/html": [
              "<div>\n",
              "<style scoped>\n",
              "    .dataframe tbody tr th:only-of-type {\n",
              "        vertical-align: middle;\n",
              "    }\n",
              "\n",
              "    .dataframe tbody tr th {\n",
              "        vertical-align: top;\n",
              "    }\n",
              "\n",
              "    .dataframe thead th {\n",
              "        text-align: right;\n",
              "    }\n",
              "</style>\n",
              "<table border=\"1\" class=\"dataframe\">\n",
              "  <thead>\n",
              "    <tr style=\"text-align: right;\">\n",
              "      <th></th>\n",
              "      <th>mean</th>\n",
              "      <th>count</th>\n",
              "    </tr>\n",
              "    <tr>\n",
              "      <th>title</th>\n",
              "      <th></th>\n",
              "      <th></th>\n",
              "    </tr>\n",
              "  </thead>\n",
              "  <tbody>\n",
              "    <tr>\n",
              "      <th>\"Great Performances\" Cats (1998)</th>\n",
              "      <td>2.815556</td>\n",
              "      <td>225</td>\n",
              "    </tr>\n",
              "    <tr>\n",
              "      <th>#1 Cheerleader Camp (2010)</th>\n",
              "      <td>2.777778</td>\n",
              "      <td>9</td>\n",
              "    </tr>\n",
              "    <tr>\n",
              "      <th>#Captured (2017)</th>\n",
              "      <td>2.500000</td>\n",
              "      <td>1</td>\n",
              "    </tr>\n",
              "    <tr>\n",
              "      <th>#Horror (2015)</th>\n",
              "      <td>2.078947</td>\n",
              "      <td>19</td>\n",
              "    </tr>\n",
              "    <tr>\n",
              "      <th>#SCREAMERS (2016)</th>\n",
              "      <td>2.500000</td>\n",
              "      <td>1</td>\n",
              "    </tr>\n",
              "    <tr>\n",
              "      <th>#chicagoGirl: The Social Network Takes on a Dictator (2013)</th>\n",
              "      <td>3.000000</td>\n",
              "      <td>5</td>\n",
              "    </tr>\n",
              "    <tr>\n",
              "      <th>#realityhigh (2017)</th>\n",
              "      <td>3.361111</td>\n",
              "      <td>18</td>\n",
              "    </tr>\n",
              "    <tr>\n",
              "      <th>$ (Dollars) (1971)</th>\n",
              "      <td>2.781250</td>\n",
              "      <td>32</td>\n",
              "    </tr>\n",
              "    <tr>\n",
              "      <th>$1,000 on the Black (1966)</th>\n",
              "      <td>3.333333</td>\n",
              "      <td>3</td>\n",
              "    </tr>\n",
              "    <tr>\n",
              "      <th>$100,000 for Ringo (1965)</th>\n",
              "      <td>2.500000</td>\n",
              "      <td>1</td>\n",
              "    </tr>\n",
              "  </tbody>\n",
              "</table>\n",
              "</div>"
            ],
            "text/plain": [
              "                                                        mean  count\n",
              "title                                                              \n",
              "\"Great Performances\" Cats (1998)                    2.815556    225\n",
              "#1 Cheerleader Camp (2010)                          2.777778      9\n",
              "#Captured (2017)                                    2.500000      1\n",
              "#Horror (2015)                                      2.078947     19\n",
              "#SCREAMERS (2016)                                   2.500000      1\n",
              "#chicagoGirl: The Social Network Takes on a Dic...  3.000000      5\n",
              "#realityhigh (2017)                                 3.361111     18\n",
              "$ (Dollars) (1971)                                  2.781250     32\n",
              "$1,000 on the Black (1966)                          3.333333      3\n",
              "$100,000 for Ringo (1965)                           2.500000      1"
            ]
          },
          "metadata": {
            "tags": []
          },
          "execution_count": 28
        }
      ]
    },
    {
      "cell_type": "code",
      "metadata": {
        "id": "eR1HK6iPO9fv",
        "colab_type": "code",
        "colab": {
          "base_uri": "https://localhost:8080/",
          "height": 235
        },
        "outputId": "d85160f2-65a5-4be4-eabc-f6464f1074b9"
      },
      "source": [
        "df_movies_mean_count[df_movies_mean_count['count'] > 500].head()"
      ],
      "execution_count": 29,
      "outputs": [
        {
          "output_type": "execute_result",
          "data": {
            "text/html": [
              "<div>\n",
              "<style scoped>\n",
              "    .dataframe tbody tr th:only-of-type {\n",
              "        vertical-align: middle;\n",
              "    }\n",
              "\n",
              "    .dataframe tbody tr th {\n",
              "        vertical-align: top;\n",
              "    }\n",
              "\n",
              "    .dataframe thead th {\n",
              "        text-align: right;\n",
              "    }\n",
              "</style>\n",
              "<table border=\"1\" class=\"dataframe\">\n",
              "  <thead>\n",
              "    <tr style=\"text-align: right;\">\n",
              "      <th></th>\n",
              "      <th>mean</th>\n",
              "      <th>count</th>\n",
              "    </tr>\n",
              "    <tr>\n",
              "      <th>title</th>\n",
              "      <th></th>\n",
              "      <th></th>\n",
              "    </tr>\n",
              "  </thead>\n",
              "  <tbody>\n",
              "    <tr>\n",
              "      <th>'Til There Was You (1997)</th>\n",
              "      <td>2.854204</td>\n",
              "      <td>559</td>\n",
              "    </tr>\n",
              "    <tr>\n",
              "      <th>'burbs, The (1989)</th>\n",
              "      <td>3.114900</td>\n",
              "      <td>3812</td>\n",
              "    </tr>\n",
              "    <tr>\n",
              "      <th>(500) Days of Summer (2009)</th>\n",
              "      <td>3.754684</td>\n",
              "      <td>12437</td>\n",
              "    </tr>\n",
              "    <tr>\n",
              "      <th>*batteries not included (1987)</th>\n",
              "      <td>3.260588</td>\n",
              "      <td>2007</td>\n",
              "    </tr>\n",
              "    <tr>\n",
              "      <th>...And Justice for All (1979)</th>\n",
              "      <td>3.632479</td>\n",
              "      <td>1287</td>\n",
              "    </tr>\n",
              "  </tbody>\n",
              "</table>\n",
              "</div>"
            ],
            "text/plain": [
              "                                    mean  count\n",
              "title                                          \n",
              "'Til There Was You (1997)       2.854204    559\n",
              "'burbs, The (1989)              3.114900   3812\n",
              "(500) Days of Summer (2009)     3.754684  12437\n",
              "*batteries not included (1987)  3.260588   2007\n",
              "...And Justice for All (1979)   3.632479   1287"
            ]
          },
          "metadata": {
            "tags": []
          },
          "execution_count": 29
        }
      ]
    },
    {
      "cell_type": "code",
      "metadata": {
        "id": "_6USnouEPYpj",
        "colab_type": "code",
        "colab": {
          "base_uri": "https://localhost:8080/",
          "height": 390
        },
        "outputId": "4b244eee-8301-4b45-da0b-4a473b55bccb"
      },
      "source": [
        "# 10 filmes melhor avaliados\n",
        "df_movies_mean_count[df_movies_mean_count['count'] > 1000].sort_values(by='mean', ascending=False).head(10)"
      ],
      "execution_count": 36,
      "outputs": [
        {
          "output_type": "execute_result",
          "data": {
            "text/html": [
              "<div>\n",
              "<style scoped>\n",
              "    .dataframe tbody tr th:only-of-type {\n",
              "        vertical-align: middle;\n",
              "    }\n",
              "\n",
              "    .dataframe tbody tr th {\n",
              "        vertical-align: top;\n",
              "    }\n",
              "\n",
              "    .dataframe thead th {\n",
              "        text-align: right;\n",
              "    }\n",
              "</style>\n",
              "<table border=\"1\" class=\"dataframe\">\n",
              "  <thead>\n",
              "    <tr style=\"text-align: right;\">\n",
              "      <th></th>\n",
              "      <th>mean</th>\n",
              "      <th>count</th>\n",
              "    </tr>\n",
              "    <tr>\n",
              "      <th>title</th>\n",
              "      <th></th>\n",
              "      <th></th>\n",
              "    </tr>\n",
              "  </thead>\n",
              "  <tbody>\n",
              "    <tr>\n",
              "      <th>Planet Earth (2006)</th>\n",
              "      <td>4.458092</td>\n",
              "      <td>1384</td>\n",
              "    </tr>\n",
              "    <tr>\n",
              "      <th>Shawshank Redemption, The (1994)</th>\n",
              "      <td>4.424188</td>\n",
              "      <td>97999</td>\n",
              "    </tr>\n",
              "    <tr>\n",
              "      <th>Black Mirror: White Christmas (2014)</th>\n",
              "      <td>4.350559</td>\n",
              "      <td>1074</td>\n",
              "    </tr>\n",
              "    <tr>\n",
              "      <th>Godfather, The (1972)</th>\n",
              "      <td>4.332893</td>\n",
              "      <td>60904</td>\n",
              "    </tr>\n",
              "    <tr>\n",
              "      <th>Usual Suspects, The (1995)</th>\n",
              "      <td>4.291959</td>\n",
              "      <td>62180</td>\n",
              "    </tr>\n",
              "    <tr>\n",
              "      <th>Godfather: Part II, The (1974)</th>\n",
              "      <td>4.263035</td>\n",
              "      <td>38875</td>\n",
              "    </tr>\n",
              "    <tr>\n",
              "      <th>Schindler's List (1993)</th>\n",
              "      <td>4.257502</td>\n",
              "      <td>71516</td>\n",
              "    </tr>\n",
              "    <tr>\n",
              "      <th>Seven Samurai (Shichinin no samurai) (1954)</th>\n",
              "      <td>4.254116</td>\n",
              "      <td>14578</td>\n",
              "    </tr>\n",
              "    <tr>\n",
              "      <th>12 Angry Men (1957)</th>\n",
              "      <td>4.237075</td>\n",
              "      <td>17931</td>\n",
              "    </tr>\n",
              "    <tr>\n",
              "      <th>Rear Window (1954)</th>\n",
              "      <td>4.230799</td>\n",
              "      <td>22264</td>\n",
              "    </tr>\n",
              "  </tbody>\n",
              "</table>\n",
              "</div>"
            ],
            "text/plain": [
              "                                                 mean  count\n",
              "title                                                       \n",
              "Planet Earth (2006)                          4.458092   1384\n",
              "Shawshank Redemption, The (1994)             4.424188  97999\n",
              "Black Mirror: White Christmas (2014)         4.350559   1074\n",
              "Godfather, The (1972)                        4.332893  60904\n",
              "Usual Suspects, The (1995)                   4.291959  62180\n",
              "Godfather: Part II, The (1974)               4.263035  38875\n",
              "Schindler's List (1993)                      4.257502  71516\n",
              "Seven Samurai (Shichinin no samurai) (1954)  4.254116  14578\n",
              "12 Angry Men (1957)                          4.237075  17931\n",
              "Rear Window (1954)                           4.230799  22264"
            ]
          },
          "metadata": {
            "tags": []
          },
          "execution_count": 36
        }
      ]
    },
    {
      "cell_type": "code",
      "metadata": {
        "id": "8LQbBGdTPu_g",
        "colab_type": "code",
        "colab": {
          "base_uri": "https://localhost:8080/",
          "height": 390
        },
        "outputId": "6240f4bd-db09-45e5-8bbb-69633f15b7e8"
      },
      "source": [
        "# 10 filmes pior avaliados\n",
        "df_movies_mean_count[df_movies_mean_count['count'] > 1000].sort_values(by='mean').head(10)"
      ],
      "execution_count": 37,
      "outputs": [
        {
          "output_type": "execute_result",
          "data": {
            "text/html": [
              "<div>\n",
              "<style scoped>\n",
              "    .dataframe tbody tr th:only-of-type {\n",
              "        vertical-align: middle;\n",
              "    }\n",
              "\n",
              "    .dataframe tbody tr th {\n",
              "        vertical-align: top;\n",
              "    }\n",
              "\n",
              "    .dataframe thead th {\n",
              "        text-align: right;\n",
              "    }\n",
              "</style>\n",
              "<table border=\"1\" class=\"dataframe\">\n",
              "  <thead>\n",
              "    <tr style=\"text-align: right;\">\n",
              "      <th></th>\n",
              "      <th>mean</th>\n",
              "      <th>count</th>\n",
              "    </tr>\n",
              "    <tr>\n",
              "      <th>title</th>\n",
              "      <th></th>\n",
              "      <th></th>\n",
              "    </tr>\n",
              "  </thead>\n",
              "  <tbody>\n",
              "    <tr>\n",
              "      <th>Epic Movie (2007)</th>\n",
              "      <td>1.472287</td>\n",
              "      <td>1281</td>\n",
              "    </tr>\n",
              "    <tr>\n",
              "      <th>Battlefield Earth (2000)</th>\n",
              "      <td>1.610675</td>\n",
              "      <td>4965</td>\n",
              "    </tr>\n",
              "    <tr>\n",
              "      <th>Baby Geniuses (1999)</th>\n",
              "      <td>1.735276</td>\n",
              "      <td>1613</td>\n",
              "    </tr>\n",
              "    <tr>\n",
              "      <th>Dumb and Dumberer: When Harry Met Lloyd (2003)</th>\n",
              "      <td>1.762450</td>\n",
              "      <td>2008</td>\n",
              "    </tr>\n",
              "    <tr>\n",
              "      <th>Free Willy 3: The Rescue (1997)</th>\n",
              "      <td>1.796917</td>\n",
              "      <td>1103</td>\n",
              "    </tr>\n",
              "    <tr>\n",
              "      <th>Stop! Or My Mom Will Shoot (1992)</th>\n",
              "      <td>1.811079</td>\n",
              "      <td>2067</td>\n",
              "    </tr>\n",
              "    <tr>\n",
              "      <th>Friday the 13th Part VIII: Jason Takes Manhattan (1989)</th>\n",
              "      <td>1.818613</td>\n",
              "      <td>1370</td>\n",
              "    </tr>\n",
              "    <tr>\n",
              "      <th>Police Academy: Mission to Moscow (1994)</th>\n",
              "      <td>1.825207</td>\n",
              "      <td>1087</td>\n",
              "    </tr>\n",
              "    <tr>\n",
              "      <th>Spice World (1997)</th>\n",
              "      <td>1.826339</td>\n",
              "      <td>3193</td>\n",
              "    </tr>\n",
              "    <tr>\n",
              "      <th>Problem Child 2 (1991)</th>\n",
              "      <td>1.849883</td>\n",
              "      <td>1279</td>\n",
              "    </tr>\n",
              "  </tbody>\n",
              "</table>\n",
              "</div>"
            ],
            "text/plain": [
              "                                                        mean  count\n",
              "title                                                              \n",
              "Epic Movie (2007)                                   1.472287   1281\n",
              "Battlefield Earth (2000)                            1.610675   4965\n",
              "Baby Geniuses (1999)                                1.735276   1613\n",
              "Dumb and Dumberer: When Harry Met Lloyd (2003)      1.762450   2008\n",
              "Free Willy 3: The Rescue (1997)                     1.796917   1103\n",
              "Stop! Or My Mom Will Shoot (1992)                   1.811079   2067\n",
              "Friday the 13th Part VIII: Jason Takes Manhatta...  1.818613   1370\n",
              "Police Academy: Mission to Moscow (1994)            1.825207   1087\n",
              "Spice World (1997)                                  1.826339   3193\n",
              "Problem Child 2 (1991)                              1.849883   1279"
            ]
          },
          "metadata": {
            "tags": []
          },
          "execution_count": 37
        }
      ]
    },
    {
      "cell_type": "code",
      "metadata": {
        "id": "6XC1PxMtQVk8",
        "colab_type": "code",
        "colab": {
          "base_uri": "https://localhost:8080/",
          "height": 269
        },
        "outputId": "d3fe149e-4820-4005-f9a2-df4d390b4931"
      },
      "source": [
        "plt.show(df_movies_mean_count[df_movies_mean_count['count'] > 1000].sort_values(by='mean', ascending=False)['mean'].head(15).plot(kind='barh').invert_yaxis())"
      ],
      "execution_count": 40,
      "outputs": [
        {
          "output_type": "display_data",
          "data": {
            "image/png": "[encoded data removed]",
            "text/plain": [
              "<Figure size 432x288 with 1 Axes>"
            ]
          },
          "metadata": {
            "tags": []
          }
        }
      ]
    },
    {
      "cell_type": "code",
      "metadata": {
        "id": "ynEufNd1RU3k",
        "colab_type": "code",
        "colab": {}
      },
      "source": [
        ""
      ],
      "execution_count": 0,
      "outputs": []
    }
  ]
}